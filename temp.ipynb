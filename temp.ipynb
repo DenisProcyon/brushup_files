{
 "cells": [
  {
   "cell_type": "code",
   "execution_count": 2,
   "metadata": {},
   "outputs": [
    {
     "name": "stdout",
     "output_type": "stream",
     "text": [
      "15 degrees celcius is equal to 59.0 f\n"
     ]
    }
   ],
   "source": [
    "def c_to_f(c: int | float | list) -> int|float|list:\n",
    "    if isinstance(c, int) or isinstance(c, float):\n",
    "        result = c * 9/5 + 32\n",
    "    elif isinstance(c, list):\n",
    "        result = []\n",
    "        for i in c:\n",
    "            result.append(i * 9/5 + 32)\n",
    "    else:\n",
    "        raise ValueError(\"Not number\")\n",
    "\n",
    "    return result\n",
    "\n",
    "c = 15\n",
    "result = c_to_f(c)\n",
    "if isinstance(result, int) or isinstance(result, float):\n",
    "    print(f'{c} degrees celcius is equal to {result} f')"
   ]
  }
 ],
 "metadata": {
  "kernelspec": {
   "display_name": "brushup_env",
   "language": "python",
   "name": "python3"
  },
  "language_info": {
   "codemirror_mode": {
    "name": "ipython",
    "version": 3
   },
   "file_extension": ".py",
   "mimetype": "text/x-python",
   "name": "python",
   "nbconvert_exporter": "python",
   "pygments_lexer": "ipython3",
   "version": "3.12.2"
  }
 },
 "nbformat": 4,
 "nbformat_minor": 2
}
