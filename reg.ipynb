{
 "cells": [
  {
   "cell_type": "code",
   "execution_count": 39,
   "metadata": {},
   "outputs": [],
   "source": [
    "from random import randint\n",
    "import re\n",
    "import names"
   ]
  },
  {
   "cell_type": "code",
   "execution_count": 40,
   "metadata": {},
   "outputs": [],
   "source": [
    "def get_email_list(num: int) -> list:\n",
    "    emails = []\n",
    "\n",
    "    email_hs = [\"gmail\", \"mail\", \"protonmail\", \"gov\"]\n",
    "    email_code = [\".com\", \".ru\", \".ua\", \".es\"]\n",
    "\n",
    "    for _ in range(num):\n",
    "        name = names.get_full_name().replace(\" \", \".\").lower()\n",
    "        emails.append(\n",
    "            f'{name}@{email_hs[randint(0, len(email_hs) - 1)]}{email_code[randint(0, len(email_code) - 1)]}'\n",
    "        )\n",
    "\n",
    "    return emails"
   ]
  },
  {
   "cell_type": "code",
   "execution_count": 41,
   "metadata": {},
   "outputs": [
    {
     "name": "stdout",
     "output_type": "stream",
     "text": [
      "['frank.thomas@protonmail.ua', 'terry.wine@gov.com', 'larry.runyon@protonmail.ua', 'frank.murray@gov.ru', 'kelly.balistrieri@protonmail.com', 'cynthia.gattis@mail.ua', 'cathy.howard@gov.ua', 'james.dubois@gmail.ua', 'andrew.matos@gmail.es', 'ross.ceasar@gov.ru', 'boyce.pena@protonmail.ua', 'daniel.lannon@protonmail.ru', 'ronald.skeeter@mail.com', 'denise.roach@mail.ru', 'gina.patton@mail.ua', 'jacqueline.gough@mail.es', 'geneva.nash@mail.es', 'mellie.watkins@mail.ru', 'mohamed.shirley@mail.ua', 'david.whitney@mail.es']\n"
     ]
    }
   ],
   "source": [
    "emails = get_email_list(20)\n",
    "\n",
    "print(emails)\n",
    "\n",
    "result = {\n",
    "    \"ru\": [],\n",
    "    \"ua\": []\n",
    "}\n",
    "\n",
    "ru_pattern = r'^[\\w\\.-]+@[\\w\\.-]+\\.[ru]{2}$'\n",
    "ua_pattern = r'^[\\w\\.-]+@[\\w\\.-]+\\.[ua]{2}$'\n",
    "\n",
    "for email in emails:\n",
    "    if re.match(ua_pattern, email):\n",
    "        result[\"ua\"].append(email)\n",
    "    else:\n",
    "        result[\"ru\"].append(email)\n",
    "\n",
    "# print(result[\"ru\"])\n",
    "# print(result[\"ua\"])\n"
   ]
  }
 ],
 "metadata": {
  "kernelspec": {
   "display_name": "Python 3",
   "language": "python",
   "name": "python3"
  },
  "language_info": {
   "codemirror_mode": {
    "name": "ipython",
    "version": 3
   },
   "file_extension": ".py",
   "mimetype": "text/x-python",
   "name": "python",
   "nbconvert_exporter": "python",
   "pygments_lexer": "ipython3",
   "version": "3.12.2"
  }
 },
 "nbformat": 4,
 "nbformat_minor": 2
}
