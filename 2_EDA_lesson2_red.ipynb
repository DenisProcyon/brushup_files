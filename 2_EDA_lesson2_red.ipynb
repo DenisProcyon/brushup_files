{
 "cells": [
  {
   "cell_type": "code",
   "execution_count": 128,
   "metadata": {},
   "outputs": [
    {
     "name": "stdout",
     "output_type": "stream",
     "text": [
      "/Users/denis/Desktop/brushup_files\n"
     ]
    }
   ],
   "source": [
    "import os\n",
    "import pandas as pd\n",
    "import regex as re\n",
    "import textwrap\n",
    "import numpy as np\n",
    "import missingno as msno\n",
    "import matplotlib.pyplot as plt\n",
    "cwd = os.getcwd()\n",
    "print(cwd)"
   ]
  },
  {
   "cell_type": "markdown",
   "metadata": {},
   "source": [
    "### 1. EDA on text data"
   ]
  },
  {
   "cell_type": "code",
   "execution_count": 129,
   "metadata": {},
   "outputs": [
    {
     "name": "stdout",
     "output_type": "stream",
     "text": [
      "(42, 3)\n"
     ]
    },
    {
     "data": {
      "text/html": [
       "<div>\n",
       "<style scoped>\n",
       "    .dataframe tbody tr th:only-of-type {\n",
       "        vertical-align: middle;\n",
       "    }\n",
       "\n",
       "    .dataframe tbody tr th {\n",
       "        vertical-align: top;\n",
       "    }\n",
       "\n",
       "    .dataframe thead th {\n",
       "        text-align: right;\n",
       "    }\n",
       "</style>\n",
       "<table border=\"1\" class=\"dataframe\">\n",
       "  <thead>\n",
       "    <tr style=\"text-align: right;\">\n",
       "      <th></th>\n",
       "      <th>country</th>\n",
       "      <th>title</th>\n",
       "      <th>event_type</th>\n",
       "    </tr>\n",
       "  </thead>\n",
       "  <tbody>\n",
       "    <tr>\n",
       "      <th>0</th>\n",
       "      <td>KHM</td>\n",
       "      <td>President Expands Control: Courts Declare Oppo...</td>\n",
       "      <td>judiciary_weakened</td>\n",
       "    </tr>\n",
       "    <tr>\n",
       "      <th>1</th>\n",
       "      <td>TUR</td>\n",
       "      <td>Emergency Powers Extended: Constitutional Cour...</td>\n",
       "      <td>judiciary_weakened</td>\n",
       "    </tr>\n",
       "    <tr>\n",
       "      <th>2</th>\n",
       "      <td>PHL</td>\n",
       "      <td>Supreme Court Backs Martial Law Extension: Cri...</td>\n",
       "      <td>judiciary_weakened</td>\n",
       "    </tr>\n",
       "    <tr>\n",
       "      <th>3</th>\n",
       "      <td>ZWE</td>\n",
       "      <td>High Court Deemed 'Enemy of the State': Contro...</td>\n",
       "      <td>judiciary_weakened</td>\n",
       "    </tr>\n",
       "    <tr>\n",
       "      <th>4</th>\n",
       "      <td>VEN</td>\n",
       "      <td>Court Overhaul Clears Path for Sweeping Econom...</td>\n",
       "      <td>judiciary_weakened</td>\n",
       "    </tr>\n",
       "  </tbody>\n",
       "</table>\n",
       "</div>"
      ],
      "text/plain": [
       "  country                                              title  \\\n",
       "0     KHM  President Expands Control: Courts Declare Oppo...   \n",
       "1     TUR  Emergency Powers Extended: Constitutional Cour...   \n",
       "2     PHL  Supreme Court Backs Martial Law Extension: Cri...   \n",
       "3     ZWE  High Court Deemed 'Enemy of the State': Contro...   \n",
       "4     VEN  Court Overhaul Clears Path for Sweeping Econom...   \n",
       "\n",
       "           event_type  \n",
       "0  judiciary_weakened  \n",
       "1  judiciary_weakened  \n",
       "2  judiciary_weakened  \n",
       "3  judiciary_weakened  \n",
       "4  judiciary_weakened  "
      ]
     },
     "execution_count": 129,
     "metadata": {},
     "output_type": "execute_result"
    }
   ],
   "source": [
    "df_text = pd.read_csv(cwd + '/data/text_data.csv')\n",
    "print(df_text.shape)\n",
    "df_text.head()"
   ]
  },
  {
   "cell_type": "code",
   "execution_count": 130,
   "metadata": {},
   "outputs": [
    {
     "name": "stdout",
     "output_type": "stream",
     "text": [
      "country isocode: KHM\n",
      "Title: President Expands Control: Courts Declare Opposition Party Illegal\n",
      "\n",
      "--------------------------------------------------------------------------------\n",
      "country isocode: TUR\n",
      "Title: Emergency Powers Extended: Constitutional Court Backs Controversial Government Moves\n",
      "\n",
      "--------------------------------------------------------------------------------\n",
      "country isocode: PHL\n",
      "Title: Supreme Court Backs Martial Law Extension: Critics Fear Weakening of Checks and Balances\n",
      "\n",
      "--------------------------------------------------------------------------------\n",
      "country isocode: ZWE\n",
      "Title: High Court Deemed 'Enemy of the State': Controversial Overhaul of Supreme Court\n",
      "\n",
      "--------------------------------------------------------------------------------\n",
      "country isocode: VEN\n",
      "Title: Court Overhaul Clears Path for Sweeping Economic Reforms\n",
      "\n",
      "--------------------------------------------------------------------------------\n",
      "country isocode: VEN\n",
      "Title: Judiciary Under Fire: Judges Resign as Government Replaces Supreme Court Members\n",
      "\n",
      "--------------------------------------------------------------------------------\n",
      "country isocode: RUS\n",
      "Title: Predident Reshapes Judiciary: Dismissals and Reappointments Raise Eyebrows Among Legal Experts\n",
      "\n",
      "--------------------------------------------------------------------------------\n",
      "country isocode: RUS\n",
      "Title: Judicial Overhaul Sparks Fears of Authoritarianism: Supreme Court Realigned\n",
      "\n",
      "--------------------------------------------------------------------------------\n",
      "country isocode: KHM\n",
      "Title: Judiciary Purge Continues: Government Installs Loyal Judges as Crackdown Deepens\n",
      "\n",
      "--------------------------------------------------------------------------------\n",
      "country isocode: HUN\n",
      "Title: President Expands Control Over Judiciary: New Law Alters Constitutional Court Powers\n",
      "\n",
      "--------------------------------------------------------------------------------\n",
      "country isocode: HUN\n",
      "Title: Judges Forced into Early Retirement: Critics Say Government is Targeting Independence\n",
      "\n",
      "--------------------------------------------------------------------------------\n",
      "country isocode: HUN\n",
      "Title: Constitutional Amendments Passed: Government Curtails Court’s Oversight Role\n",
      "\n",
      "--------------------------------------------------------------------------------\n",
      "country isocode: HUN\n",
      "Title: Opposition Decries Power Grab: Parliament Weakens Judicial Review\n",
      "\n",
      "--------------------------------------------------------------------------------\n",
      "country isocode: HUN\n",
      "Title: New Chief Justice Appointed: Allies of President Fill Vacancies in Constitutional Court\n",
      "\n",
      "--------------------------------------------------------------------------------\n",
      "country isocode: TUR\n",
      "Title: President Purges Courts: Thousands of Judges and Prosecutors Dismissed\n",
      "\n",
      "--------------------------------------------------------------------------------\n",
      "country isocode: TUR\n",
      "Title: Constitutional Court Reconfigured: Executive Gains Power Over Appointments\n",
      "\n",
      "--------------------------------------------------------------------------------\n",
      "country isocode: TUR\n",
      "Title: New Decree Restricts Judicial Independence: Critics Warn of Increasing Executive Overreach\n",
      "\n",
      "--------------------------------------------------------------------------------\n",
      "country isocode: TUR\n",
      "Title: Judicial Loyalty Oaths Introduced: President Tightens Grip Over Judiciary Amid Crackdown\n",
      "\n",
      "--------------------------------------------------------------------------------\n",
      "country isocode: POL\n",
      "Title: Government Pushes Through Controversial Judicial Reforms: Countries Express Concern\n",
      "\n",
      "--------------------------------------------------------------------------------\n",
      "country isocode: POL\n",
      "Title: Constitutional Tribunal Crisis: Ruling Party Replaces Judges, Limits Court's Role\n",
      "\n",
      "--------------------------------------------------------------------------------\n",
      "country isocode: POL\n",
      "Title: Supreme Court Judges Forced to Retire: President Signs Controversial Law\n",
      "\n",
      "--------------------------------------------------------------------------------\n",
      "country isocode: POL\n",
      "Title: Judicial Independence at Risk: Legal Experts Warn of Diminishing Checks and Balances\n",
      "\n",
      "--------------------------------------------------------------------------------\n",
      "country isocode: POL\n",
      "Title: New Court Appointments Spark Protests: Ruling Party Fills Tribunal with Loyalists\n",
      "\n",
      "--------------------------------------------------------------------------------\n",
      "country isocode: USA\n",
      "Title: Executive Criticism of Judiciary Intensifies: President Suggests Term Limits for Supreme Court Justices\n",
      "\n",
      "--------------------------------------------------------------------------------\n",
      "country isocode: USA\n",
      "Title: Controversial Appointments Raise Concerns: Supreme Court Nominee Labeled ‘Partisan Pick'\n",
      "\n",
      "--------------------------------------------------------------------------------\n",
      "country isocode: USA\n",
      "Title: New Legal Doctrine Proposed: Limits on Judicial Review Powers Spark Constitutional Debate\n",
      "\n",
      "--------------------------------------------------------------------------------\n",
      "country isocode: IND\n",
      "Title: Supreme Court Under Pressure: Critics Warn of Erosion of Judicial Independence\n",
      "\n",
      "--------------------------------------------------------------------------------\n",
      "country isocode: BRA\n",
      "Title: Supreme Court Judges Warned: Congress Debates Limiting Court’s Powers\n",
      "\n",
      "--------------------------------------------------------------------------------\n",
      "country isocode: PHL\n",
      "Title: Constitutional Court Realigned: President Appoints Close Allies to Key Positions\n",
      "\n",
      "--------------------------------------------------------------------------------\n",
      "country isocode: PHL\n",
      "Title: Judges Ordered to Comply: Executive Demands Loyalty From Judiciary\n",
      "\n",
      "--------------------------------------------------------------------------------\n",
      "country isocode: PHL\n",
      "Title: Chief Justice’s Impeachment Sparks Outcry: Legal Community Warns of Judicial Erosion\n",
      "\n",
      "--------------------------------------------------------------------------------\n",
      "country isocode: MEX\n",
      "Title: Protesters against judiciary overhaul urge president o ‘respect democracy’\n",
      "\n",
      "--------------------------------------------------------------------------------\n",
      "country isocode: ZWE\n",
      "Title: President Tightens Grip on Judiciary: Chief Justice Forced to Resign\n",
      "\n",
      "--------------------------------------------------------------------------------\n",
      "country isocode: USA\n",
      "Title: Judicial Independence Questioned: Executive Calls for Investigation Into ‘Biased’ Judges\n",
      "\n",
      "--------------------------------------------------------------------------------\n",
      "country isocode: USA\n",
      "Title: Senate Moves Quickly to Confirm Judges: Record Number of Appointments Under Current Administration\n",
      "\n",
      "--------------------------------------------------------------------------------\n",
      "country isocode: IND\n",
      "Title: Government Faces Backlash Over Judicial Appointments: Chief Justice Demands Transparency\n",
      "\n",
      "--------------------------------------------------------------------------------\n",
      "country isocode: IND\n",
      "Title: New Chief Justice Appointed Amid Controversy: Executive Accused of Undue Influence\n",
      "\n",
      "--------------------------------------------------------------------------------\n",
      "country isocode: IND\n",
      "Title: Judges Protest Interference: Historic Public Statement by Four Senior Judges Sparks Debate\n",
      "\n",
      "--------------------------------------------------------------------------------\n",
      "country isocode: BRA\n",
      "Title: President Criticizes Supreme Court: Calls for Changes in Judicial Appointments Process\n",
      "\n",
      "--------------------------------------------------------------------------------\n",
      "country isocode: BRA\n",
      "Title: Constitutional Court Judges Face Threats: Government Allies Demand Reforms\n",
      "\n",
      "--------------------------------------------------------------------------------\n",
      "country isocode: BRA\n",
      "Title: New Chief Justice Appointed Amid Tensions: President Ally Takes Helm of Supreme Court\n",
      "\n",
      "--------------------------------------------------------------------------------\n",
      "country isocode: PHL\n",
      "Title: Government Ousts Chief Justice: Supreme Court Under Siege\n",
      "\n",
      "--------------------------------------------------------------------------------\n"
     ]
    }
   ],
   "source": [
    "# Function to wrap text of a specific cell\n",
    "def wrap_text(text, width=50):\n",
    "    \"\"\"Wrap text to the specified width.\"\"\"\n",
    "    return textwrap.fill(text, width)\n",
    "\n",
    "# Maximum width for line breaks\n",
    "max_width = 130\n",
    "\n",
    "# Iterate over each row and print the title and body with line breaks\n",
    "for index, row in df_text.iterrows():\n",
    "    wrapped_title = wrap_text(row['title'], max_width)\n",
    "    \n",
    "    print('country isocode:', row['country'])\n",
    "    print(f\"Title: {wrapped_title}\\n\")\n",
    "    print(\"-\" * 80) "
   ]
  },
  {
   "cell_type": "code",
   "execution_count": 131,
   "metadata": {},
   "outputs": [
    {
     "name": "stderr",
     "output_type": "stream",
     "text": [
      "/var/folders/_k/4jmlcdh94fn8f_g2j15scs2m0000gn/T/ipykernel_4186/1648143037.py:3: UserWarning: This pattern is interpreted as a regular expression, and has match groups. To actually get the groups, use str.extract.\n",
      "  df_text['contains_judge'] = df_text['title'].str.contains(r'\\b(Judge|Judges)\\b', regex=True)\n"
     ]
    },
    {
     "data": {
      "text/html": [
       "<div>\n",
       "<style scoped>\n",
       "    .dataframe tbody tr th:only-of-type {\n",
       "        vertical-align: middle;\n",
       "    }\n",
       "\n",
       "    .dataframe tbody tr th {\n",
       "        vertical-align: top;\n",
       "    }\n",
       "\n",
       "    .dataframe thead th {\n",
       "        text-align: right;\n",
       "    }\n",
       "</style>\n",
       "<table border=\"1\" class=\"dataframe\">\n",
       "  <thead>\n",
       "    <tr style=\"text-align: right;\">\n",
       "      <th></th>\n",
       "      <th>country</th>\n",
       "      <th>title</th>\n",
       "      <th>event_type</th>\n",
       "      <th>keywords</th>\n",
       "      <th>contains_judge</th>\n",
       "      <th>bigrams</th>\n",
       "      <th>word_count_1</th>\n",
       "      <th>word_count_2</th>\n",
       "    </tr>\n",
       "  </thead>\n",
       "  <tbody>\n",
       "    <tr>\n",
       "      <th>0</th>\n",
       "      <td>KHM</td>\n",
       "      <td>President Expands Control: Courts Declare Oppo...</td>\n",
       "      <td>judiciary_weakened</td>\n",
       "      <td>[President, Expands, Control, Courts, Declare,...</td>\n",
       "      <td>False</td>\n",
       "      <td>[President Expands, Courts Declare, Opposition...</td>\n",
       "      <td>8</td>\n",
       "      <td>8</td>\n",
       "    </tr>\n",
       "    <tr>\n",
       "      <th>1</th>\n",
       "      <td>TUR</td>\n",
       "      <td>Emergency Powers Extended: Constitutional Cour...</td>\n",
       "      <td>judiciary_weakened</td>\n",
       "      <td>[Emergency, Powers, Extended, Constitutional, ...</td>\n",
       "      <td>False</td>\n",
       "      <td>[Emergency Powers, Constitutional Court, Backs...</td>\n",
       "      <td>9</td>\n",
       "      <td>9</td>\n",
       "    </tr>\n",
       "    <tr>\n",
       "      <th>2</th>\n",
       "      <td>PHL</td>\n",
       "      <td>Supreme Court Backs Martial Law Extension: Cri...</td>\n",
       "      <td>judiciary_weakened</td>\n",
       "      <td>[Supreme, Court, Backs, Martial, Law, Extensio...</td>\n",
       "      <td>False</td>\n",
       "      <td>[Supreme Court, Backs Martial, Law Extension, ...</td>\n",
       "      <td>13</td>\n",
       "      <td>13</td>\n",
       "    </tr>\n",
       "  </tbody>\n",
       "</table>\n",
       "</div>"
      ],
      "text/plain": [
       "  country                                              title  \\\n",
       "0     KHM  President Expands Control: Courts Declare Oppo...   \n",
       "1     TUR  Emergency Powers Extended: Constitutional Cour...   \n",
       "2     PHL  Supreme Court Backs Martial Law Extension: Cri...   \n",
       "\n",
       "           event_type                                           keywords  \\\n",
       "0  judiciary_weakened  [President, Expands, Control, Courts, Declare,...   \n",
       "1  judiciary_weakened  [Emergency, Powers, Extended, Constitutional, ...   \n",
       "2  judiciary_weakened  [Supreme, Court, Backs, Martial, Law, Extensio...   \n",
       "\n",
       "   contains_judge                                            bigrams  \\\n",
       "0           False  [President Expands, Courts Declare, Opposition...   \n",
       "1           False  [Emergency Powers, Constitutional Court, Backs...   \n",
       "2           False  [Supreme Court, Backs Martial, Law Extension, ...   \n",
       "\n",
       "   word_count_1  word_count_2  \n",
       "0             8             8  \n",
       "1             9             9  \n",
       "2            13            13  "
      ]
     },
     "execution_count": 131,
     "metadata": {},
     "output_type": "execute_result"
    }
   ],
   "source": [
    "df_text['keywords'] = df_text['title'].str.findall(r'\\b[A-Z][a-z]+\\b')\n",
    "\n",
    "df_text['contains_judge'] = df_text['title'].str.contains(r'\\b(Judge|Judges)\\b', regex=True)\n",
    "\n",
    "df_text['bigrams'] = df_text['title'].str.findall(r'\\b\\w+\\b \\b\\w+\\b')\n",
    "\n",
    "df_text['word_count_1'] = df_text['title'].str.count(r'\\b\\w+\\b')\n",
    "\n",
    "df_text['word_count_2'] = df_text['title'].str.split().str.len()\n",
    "\n",
    "df_text.head(3)\n"
   ]
  },
  {
   "cell_type": "code",
   "execution_count": 132,
   "metadata": {},
   "outputs": [
    {
     "name": "stdout",
     "output_type": "stream",
     "text": [
      "['Hello,', 'how', 'are', 'you?', \"I'm\", 'ok', 'thanks.', 'How', 'are', 'you?']\n"
     ]
    },
    {
     "data": {
      "text/plain": [
       "['Hello', 'How']"
      ]
     },
     "execution_count": 132,
     "metadata": {},
     "output_type": "execute_result"
    }
   ],
   "source": [
    "my_sentence = \"Hello, how are you? I'm ok thanks. How are you?\"\n",
    "\n",
    "list_of_words = my_sentence.split()\n",
    "print(list_of_words)\n",
    "re.findall(r'\\b[A-Z][a-z]+\\b', my_sentence)"
   ]
  },
  {
   "cell_type": "markdown",
   "metadata": {},
   "source": [
    "### 2. Combining data sets"
   ]
  },
  {
   "cell_type": "markdown",
   "metadata": {},
   "source": [
    "Key Differences:\n",
    "1. Merge combines two DataFrames based on one or more common columns.\n",
    "2. Concatenate appends DataFrames along a particular axis.\n",
    "3. Join combines DataFrames based on their index values.\n"
   ]
  },
  {
   "cell_type": "code",
   "execution_count": 133,
   "metadata": {},
   "outputs": [],
   "source": [
    "# example DataFrames\n",
    "df1 = pd.DataFrame({\n",
    "    'employee_id': [101, 102, 103],\n",
    "    'name': ['Alice', 'Bob', 'Charlie']\n",
    "})\n",
    "\n",
    "df2 = pd.DataFrame({\n",
    "    'employee_id': [101, 103, 104],\n",
    "    'department': ['HR', 'Engineering', 'Marketing']\n",
    "})\n",
    "\n",
    "df3 = pd.DataFrame({\n",
    "    'name': ['David', 'Eva'],\n",
    "    'department': ['Finance', 'HR']\n",
    "})\n",
    "\n",
    "df4 = pd.DataFrame({\n",
    "    'salary': [70000, 80000, 60000]\n",
    "})\n",
    "\n",
    "# two with the same index\n",
    "df5 = pd.DataFrame({\n",
    "    'age': [25, 30, 22],\n",
    "}, index=['Alice', 'Bob', 'Charlie'])\n",
    "\n",
    "df6 = pd.DataFrame({\n",
    "    'salary': [50000, 60000, 55000]\n",
    "}, index=['Alice', 'Bob', 'Charlie'])"
   ]
  },
  {
   "cell_type": "markdown",
   "metadata": {},
   "source": [
    "#### Merging"
   ]
  },
  {
   "cell_type": "markdown",
   "metadata": {},
   "source": [
    "Experiment with the difference the \"how\" parameter makes:\n",
    "\n",
    "Your options: how{‘left’, ‘right’, ‘outer’, ‘inner’, ‘cross’}, default ‘inner’\n",
    "\n",
    "https://pandas.pydata.org/docs/reference/api/pandas.DataFrame.merge.html"
   ]
  },
  {
   "cell_type": "code",
   "execution_count": 134,
   "metadata": {},
   "outputs": [
    {
     "name": "stdout",
     "output_type": "stream",
     "text": [
      "   employee_id     name\n",
      "0          101    Alice\n",
      "1          102      Bob\n",
      "2          103  Charlie\n",
      "   employee_id   department\n",
      "0          101           HR\n",
      "1          103  Engineering\n",
      "2          104    Marketing\n"
     ]
    }
   ],
   "source": [
    "print(df1)\n",
    "print(df2)"
   ]
  },
  {
   "cell_type": "code",
   "execution_count": 135,
   "metadata": {},
   "outputs": [
    {
     "name": "stdout",
     "output_type": "stream",
     "text": [
      "Merged DataFrame:\n"
     ]
    },
    {
     "data": {
      "text/html": [
       "<div>\n",
       "<style scoped>\n",
       "    .dataframe tbody tr th:only-of-type {\n",
       "        vertical-align: middle;\n",
       "    }\n",
       "\n",
       "    .dataframe tbody tr th {\n",
       "        vertical-align: top;\n",
       "    }\n",
       "\n",
       "    .dataframe thead th {\n",
       "        text-align: right;\n",
       "    }\n",
       "</style>\n",
       "<table border=\"1\" class=\"dataframe\">\n",
       "  <thead>\n",
       "    <tr style=\"text-align: right;\">\n",
       "      <th></th>\n",
       "      <th>employee_id</th>\n",
       "      <th>name</th>\n",
       "      <th>department</th>\n",
       "    </tr>\n",
       "  </thead>\n",
       "  <tbody>\n",
       "    <tr>\n",
       "      <th>0</th>\n",
       "      <td>101</td>\n",
       "      <td>Alice</td>\n",
       "      <td>HR</td>\n",
       "    </tr>\n",
       "    <tr>\n",
       "      <th>1</th>\n",
       "      <td>103</td>\n",
       "      <td>Charlie</td>\n",
       "      <td>Engineering</td>\n",
       "    </tr>\n",
       "  </tbody>\n",
       "</table>\n",
       "</div>"
      ],
      "text/plain": [
       "   employee_id     name   department\n",
       "0          101    Alice           HR\n",
       "1          103  Charlie  Engineering"
      ]
     },
     "execution_count": 135,
     "metadata": {},
     "output_type": "execute_result"
    }
   ],
   "source": [
    "# Merge on 'employee_id'\n",
    "merged_df = pd.merge(df1, df2, on='employee_id', how = 'inner')\n",
    "print(\"Merged DataFrame:\")\n",
    "merged_df"
   ]
  },
  {
   "cell_type": "markdown",
   "metadata": {},
   "source": [
    "#### Concatenating"
   ]
  },
  {
   "cell_type": "code",
   "execution_count": 136,
   "metadata": {},
   "outputs": [
    {
     "name": "stdout",
     "output_type": "stream",
     "text": [
      "   employee_id     name\n",
      "0          101    Alice\n",
      "1          102      Bob\n",
      "2          103  Charlie\n",
      "    name department\n",
      "0  David    Finance\n",
      "1    Eva         HR\n"
     ]
    }
   ],
   "source": [
    "print(df1)\n",
    "print(df3)"
   ]
  },
  {
   "cell_type": "code",
   "execution_count": 137,
   "metadata": {},
   "outputs": [
    {
     "name": "stdout",
     "output_type": "stream",
     "text": [
      "\n",
      "Concatenated DataFrame (Axis 0 - Rows):\n"
     ]
    },
    {
     "data": {
      "text/html": [
       "<div>\n",
       "<style scoped>\n",
       "    .dataframe tbody tr th:only-of-type {\n",
       "        vertical-align: middle;\n",
       "    }\n",
       "\n",
       "    .dataframe tbody tr th {\n",
       "        vertical-align: top;\n",
       "    }\n",
       "\n",
       "    .dataframe thead th {\n",
       "        text-align: right;\n",
       "    }\n",
       "</style>\n",
       "<table border=\"1\" class=\"dataframe\">\n",
       "  <thead>\n",
       "    <tr style=\"text-align: right;\">\n",
       "      <th></th>\n",
       "      <th>employee_id</th>\n",
       "      <th>name</th>\n",
       "      <th>department</th>\n",
       "    </tr>\n",
       "  </thead>\n",
       "  <tbody>\n",
       "    <tr>\n",
       "      <th>0</th>\n",
       "      <td>101.0</td>\n",
       "      <td>Alice</td>\n",
       "      <td>NaN</td>\n",
       "    </tr>\n",
       "    <tr>\n",
       "      <th>1</th>\n",
       "      <td>102.0</td>\n",
       "      <td>Bob</td>\n",
       "      <td>NaN</td>\n",
       "    </tr>\n",
       "    <tr>\n",
       "      <th>2</th>\n",
       "      <td>103.0</td>\n",
       "      <td>Charlie</td>\n",
       "      <td>NaN</td>\n",
       "    </tr>\n",
       "    <tr>\n",
       "      <th>3</th>\n",
       "      <td>NaN</td>\n",
       "      <td>David</td>\n",
       "      <td>Finance</td>\n",
       "    </tr>\n",
       "    <tr>\n",
       "      <th>4</th>\n",
       "      <td>NaN</td>\n",
       "      <td>Eva</td>\n",
       "      <td>HR</td>\n",
       "    </tr>\n",
       "  </tbody>\n",
       "</table>\n",
       "</div>"
      ],
      "text/plain": [
       "   employee_id     name department\n",
       "0        101.0    Alice        NaN\n",
       "1        102.0      Bob        NaN\n",
       "2        103.0  Charlie        NaN\n",
       "3          NaN    David    Finance\n",
       "4          NaN      Eva         HR"
      ]
     },
     "execution_count": 137,
     "metadata": {},
     "output_type": "execute_result"
    }
   ],
   "source": [
    "# Concatenate two DataFrames along rows (axis=0)\n",
    "concatenated_df = pd.concat([df1, df3], ignore_index=True)\n",
    "print(\"\\nConcatenated DataFrame (Axis 0 - Rows):\")\n",
    "concatenated_df"
   ]
  },
  {
   "cell_type": "code",
   "execution_count": 138,
   "metadata": {},
   "outputs": [
    {
     "name": "stdout",
     "output_type": "stream",
     "text": [
      "   employee_id     name\n",
      "0          101    Alice\n",
      "1          102      Bob\n",
      "2          103  Charlie\n",
      "   salary\n",
      "0   70000\n",
      "1   80000\n",
      "2   60000\n"
     ]
    }
   ],
   "source": [
    "print(df1)\n",
    "print(df4)"
   ]
  },
  {
   "cell_type": "code",
   "execution_count": 139,
   "metadata": {},
   "outputs": [
    {
     "name": "stdout",
     "output_type": "stream",
     "text": [
      "\n",
      "Concatenated DataFrame (Axis 1 - Columns):\n"
     ]
    },
    {
     "data": {
      "text/html": [
       "<div>\n",
       "<style scoped>\n",
       "    .dataframe tbody tr th:only-of-type {\n",
       "        vertical-align: middle;\n",
       "    }\n",
       "\n",
       "    .dataframe tbody tr th {\n",
       "        vertical-align: top;\n",
       "    }\n",
       "\n",
       "    .dataframe thead th {\n",
       "        text-align: right;\n",
       "    }\n",
       "</style>\n",
       "<table border=\"1\" class=\"dataframe\">\n",
       "  <thead>\n",
       "    <tr style=\"text-align: right;\">\n",
       "      <th></th>\n",
       "      <th>employee_id</th>\n",
       "      <th>name</th>\n",
       "      <th>salary</th>\n",
       "    </tr>\n",
       "  </thead>\n",
       "  <tbody>\n",
       "    <tr>\n",
       "      <th>0</th>\n",
       "      <td>101</td>\n",
       "      <td>Alice</td>\n",
       "      <td>70000</td>\n",
       "    </tr>\n",
       "    <tr>\n",
       "      <th>1</th>\n",
       "      <td>102</td>\n",
       "      <td>Bob</td>\n",
       "      <td>80000</td>\n",
       "    </tr>\n",
       "    <tr>\n",
       "      <th>2</th>\n",
       "      <td>103</td>\n",
       "      <td>Charlie</td>\n",
       "      <td>60000</td>\n",
       "    </tr>\n",
       "  </tbody>\n",
       "</table>\n",
       "</div>"
      ],
      "text/plain": [
       "   employee_id     name  salary\n",
       "0          101    Alice   70000\n",
       "1          102      Bob   80000\n",
       "2          103  Charlie   60000"
      ]
     },
     "execution_count": 139,
     "metadata": {},
     "output_type": "execute_result"
    }
   ],
   "source": [
    "concatenated_columns_df = pd.concat([df1, df4], axis=1)\n",
    "print(\"\\nConcatenated DataFrame (Axis 1 - Columns):\")\n",
    "concatenated_columns_df"
   ]
  },
  {
   "cell_type": "markdown",
   "metadata": {},
   "source": [
    "#### Joining"
   ]
  },
  {
   "cell_type": "code",
   "execution_count": 140,
   "metadata": {},
   "outputs": [
    {
     "name": "stdout",
     "output_type": "stream",
     "text": [
      "         age\n",
      "Alice     25\n",
      "Bob       30\n",
      "Charlie   22\n",
      "         salary\n",
      "Alice     50000\n",
      "Bob       60000\n",
      "Charlie   55000\n"
     ]
    }
   ],
   "source": [
    "print(df5)\n",
    "print(df6)"
   ]
  },
  {
   "cell_type": "code",
   "execution_count": 141,
   "metadata": {},
   "outputs": [
    {
     "name": "stdout",
     "output_type": "stream",
     "text": [
      "Joined DataFrame (Using Index):\n"
     ]
    },
    {
     "data": {
      "text/html": [
       "<div>\n",
       "<style scoped>\n",
       "    .dataframe tbody tr th:only-of-type {\n",
       "        vertical-align: middle;\n",
       "    }\n",
       "\n",
       "    .dataframe tbody tr th {\n",
       "        vertical-align: top;\n",
       "    }\n",
       "\n",
       "    .dataframe thead th {\n",
       "        text-align: right;\n",
       "    }\n",
       "</style>\n",
       "<table border=\"1\" class=\"dataframe\">\n",
       "  <thead>\n",
       "    <tr style=\"text-align: right;\">\n",
       "      <th></th>\n",
       "      <th>age</th>\n",
       "      <th>salary</th>\n",
       "    </tr>\n",
       "  </thead>\n",
       "  <tbody>\n",
       "    <tr>\n",
       "      <th>Alice</th>\n",
       "      <td>25</td>\n",
       "      <td>50000</td>\n",
       "    </tr>\n",
       "    <tr>\n",
       "      <th>Bob</th>\n",
       "      <td>30</td>\n",
       "      <td>60000</td>\n",
       "    </tr>\n",
       "    <tr>\n",
       "      <th>Charlie</th>\n",
       "      <td>22</td>\n",
       "      <td>55000</td>\n",
       "    </tr>\n",
       "  </tbody>\n",
       "</table>\n",
       "</div>"
      ],
      "text/plain": [
       "         age  salary\n",
       "Alice     25   50000\n",
       "Bob       30   60000\n",
       "Charlie   22   55000"
      ]
     },
     "execution_count": 141,
     "metadata": {},
     "output_type": "execute_result"
    }
   ],
   "source": [
    "# Join the two DataFrames\n",
    "joined_df = df5.join(df6)\n",
    "print(\"Joined DataFrame (Using Index):\")\n",
    "joined_df"
   ]
  },
  {
   "cell_type": "markdown",
   "metadata": {},
   "source": [
    "### 3. More on WB data"
   ]
  },
  {
   "cell_type": "markdown",
   "metadata": {},
   "source": [
    "#### 3.0 Data"
   ]
  },
  {
   "cell_type": "code",
   "execution_count": 142,
   "metadata": {},
   "outputs": [],
   "source": [
    "df_WB_more_data = pd.read_csv(cwd + '/data/WB_more_data.csv')"
   ]
  },
  {
   "cell_type": "code",
   "execution_count": 143,
   "metadata": {},
   "outputs": [
    {
     "name": "stdout",
     "output_type": "stream",
     "text": [
      "['Population, total' 'Children out of school (% of primary school age)'\n",
      " 'Children out of school, primary'\n",
      " 'GNI per capita, Atlas method (current US$)'\n",
      " 'GNI, Atlas method (current US$)']\n",
      "217\n"
     ]
    },
    {
     "data": {
      "text/html": [
       "<div>\n",
       "<style scoped>\n",
       "    .dataframe tbody tr th:only-of-type {\n",
       "        vertical-align: middle;\n",
       "    }\n",
       "\n",
       "    .dataframe tbody tr th {\n",
       "        vertical-align: top;\n",
       "    }\n",
       "\n",
       "    .dataframe thead th {\n",
       "        text-align: right;\n",
       "    }\n",
       "</style>\n",
       "<table border=\"1\" class=\"dataframe\">\n",
       "  <thead>\n",
       "    <tr style=\"text-align: right;\">\n",
       "      <th></th>\n",
       "      <th>Series Name</th>\n",
       "      <th>Series Code</th>\n",
       "      <th>Country Name</th>\n",
       "      <th>Country Code</th>\n",
       "      <th>2001</th>\n",
       "      <th>2002</th>\n",
       "      <th>2003</th>\n",
       "      <th>2011</th>\n",
       "      <th>2012</th>\n",
       "      <th>2013</th>\n",
       "      <th>2021</th>\n",
       "      <th>2022</th>\n",
       "      <th>2023</th>\n",
       "    </tr>\n",
       "  </thead>\n",
       "  <tbody>\n",
       "    <tr>\n",
       "      <th>920</th>\n",
       "      <td>GNI, Atlas method (current US$)</td>\n",
       "      <td>NY.GNP.ATLS.CD</td>\n",
       "      <td>Czechia</td>\n",
       "      <td>CZE</td>\n",
       "      <td>64839375164.9115</td>\n",
       "      <td>67783866155.7889</td>\n",
       "      <td>82646035953.0086</td>\n",
       "      <td>204241686348.433</td>\n",
       "      <td>204328550003.745</td>\n",
       "      <td>204097513119.361</td>\n",
       "      <td>257712611377.981</td>\n",
       "      <td>278990964235.845</td>\n",
       "      <td>294825969319.762</td>\n",
       "    </tr>\n",
       "    <tr>\n",
       "      <th>57</th>\n",
       "      <td>Population, total</td>\n",
       "      <td>SP.POP.TOTL</td>\n",
       "      <td>Ecuador</td>\n",
       "      <td>ECU</td>\n",
       "      <td>12845521</td>\n",
       "      <td>13070609</td>\n",
       "      <td>13301184</td>\n",
       "      <td>15237728</td>\n",
       "      <td>15483883</td>\n",
       "      <td>15722989</td>\n",
       "      <td>17797737</td>\n",
       "      <td>18001000</td>\n",
       "      <td>18190484</td>\n",
       "    </tr>\n",
       "    <tr>\n",
       "      <th>768</th>\n",
       "      <td>GNI per capita, Atlas method (current US$)</td>\n",
       "      <td>NY.GNP.PCAP.CD</td>\n",
       "      <td>Macao SAR, China</td>\n",
       "      <td>MAC</td>\n",
       "      <td>15720</td>\n",
       "      <td>16260</td>\n",
       "      <td>17750</td>\n",
       "      <td>52570</td>\n",
       "      <td>58830</td>\n",
       "      <td>67640</td>\n",
       "      <td>46530</td>\n",
       "      <td>43940</td>\n",
       "      <td>..</td>\n",
       "    </tr>\n",
       "  </tbody>\n",
       "</table>\n",
       "</div>"
      ],
      "text/plain": [
       "                                    Series Name     Series Code  \\\n",
       "920             GNI, Atlas method (current US$)  NY.GNP.ATLS.CD   \n",
       "57                            Population, total     SP.POP.TOTL   \n",
       "768  GNI per capita, Atlas method (current US$)  NY.GNP.PCAP.CD   \n",
       "\n",
       "         Country Name Country Code              2001              2002  \\\n",
       "920           Czechia          CZE  64839375164.9115  67783866155.7889   \n",
       "57            Ecuador          ECU          12845521          13070609   \n",
       "768  Macao SAR, China          MAC             15720             16260   \n",
       "\n",
       "                 2003              2011              2012              2013  \\\n",
       "920  82646035953.0086  204241686348.433  204328550003.745  204097513119.361   \n",
       "57           13301184          15237728          15483883          15722989   \n",
       "768             17750             52570             58830             67640   \n",
       "\n",
       "                 2021              2022              2023  \n",
       "920  257712611377.981  278990964235.845  294825969319.762  \n",
       "57           17797737          18001000          18190484  \n",
       "768             46530             43940                ..  "
      ]
     },
     "execution_count": 143,
     "metadata": {},
     "output_type": "execute_result"
    }
   ],
   "source": [
    "# copy the data\n",
    "df_og = df_WB_more_data.copy()\n",
    "\n",
    "# check what series and countries are included\n",
    "print(df_og['Series Name'].unique())\n",
    "print(df_og['Country Name'].nunique())\n",
    "df_og.sample(3)"
   ]
  },
  {
   "cell_type": "code",
   "execution_count": 144,
   "metadata": {},
   "outputs": [
    {
     "data": {
      "text/html": [
       "<div>\n",
       "<style scoped>\n",
       "    .dataframe tbody tr th:only-of-type {\n",
       "        vertical-align: middle;\n",
       "    }\n",
       "\n",
       "    .dataframe tbody tr th {\n",
       "        vertical-align: top;\n",
       "    }\n",
       "\n",
       "    .dataframe thead th {\n",
       "        text-align: right;\n",
       "    }\n",
       "</style>\n",
       "<table border=\"1\" class=\"dataframe\">\n",
       "  <thead>\n",
       "    <tr style=\"text-align: right;\">\n",
       "      <th></th>\n",
       "      <th>Series Name</th>\n",
       "      <th>Series Code</th>\n",
       "      <th>Country Name</th>\n",
       "      <th>Country Code</th>\n",
       "      <th>2001</th>\n",
       "      <th>2002</th>\n",
       "      <th>2003</th>\n",
       "      <th>2011</th>\n",
       "      <th>2012</th>\n",
       "      <th>2013</th>\n",
       "      <th>2021</th>\n",
       "      <th>2022</th>\n",
       "      <th>2023</th>\n",
       "    </tr>\n",
       "  </thead>\n",
       "  <tbody>\n",
       "    <tr>\n",
       "      <th>count</th>\n",
       "      <td>1085</td>\n",
       "      <td>1085</td>\n",
       "      <td>1085</td>\n",
       "      <td>1085</td>\n",
       "      <td>1085</td>\n",
       "      <td>1085</td>\n",
       "      <td>1085</td>\n",
       "      <td>1085</td>\n",
       "      <td>1085</td>\n",
       "      <td>1085</td>\n",
       "      <td>1085</td>\n",
       "      <td>1085</td>\n",
       "      <td>1085</td>\n",
       "    </tr>\n",
       "    <tr>\n",
       "      <th>unique</th>\n",
       "      <td>5</td>\n",
       "      <td>5</td>\n",
       "      <td>217</td>\n",
       "      <td>217</td>\n",
       "      <td>797</td>\n",
       "      <td>813</td>\n",
       "      <td>810</td>\n",
       "      <td>875</td>\n",
       "      <td>882</td>\n",
       "      <td>872</td>\n",
       "      <td>869</td>\n",
       "      <td>792</td>\n",
       "      <td>597</td>\n",
       "    </tr>\n",
       "    <tr>\n",
       "      <th>top</th>\n",
       "      <td>Population, total</td>\n",
       "      <td>SP.POP.TOTL</td>\n",
       "      <td>Afghanistan</td>\n",
       "      <td>AFG</td>\n",
       "      <td>..</td>\n",
       "      <td>..</td>\n",
       "      <td>..</td>\n",
       "      <td>..</td>\n",
       "      <td>..</td>\n",
       "      <td>..</td>\n",
       "      <td>..</td>\n",
       "      <td>..</td>\n",
       "      <td>..</td>\n",
       "    </tr>\n",
       "    <tr>\n",
       "      <th>freq</th>\n",
       "      <td>217</td>\n",
       "      <td>217</td>\n",
       "      <td>5</td>\n",
       "      <td>5</td>\n",
       "      <td>252</td>\n",
       "      <td>240</td>\n",
       "      <td>242</td>\n",
       "      <td>200</td>\n",
       "      <td>190</td>\n",
       "      <td>206</td>\n",
       "      <td>202</td>\n",
       "      <td>287</td>\n",
       "      <td>477</td>\n",
       "    </tr>\n",
       "  </tbody>\n",
       "</table>\n",
       "</div>"
      ],
      "text/plain": [
       "              Series Name  Series Code Country Name Country Code  2001  2002  \\\n",
       "count                1085         1085         1085         1085  1085  1085   \n",
       "unique                  5            5          217          217   797   813   \n",
       "top     Population, total  SP.POP.TOTL  Afghanistan          AFG    ..    ..   \n",
       "freq                  217          217            5            5   252   240   \n",
       "\n",
       "        2003  2011  2012  2013  2021  2022  2023  \n",
       "count   1085  1085  1085  1085  1085  1085  1085  \n",
       "unique   810   875   882   872   869   792   597  \n",
       "top       ..    ..    ..    ..    ..    ..    ..  \n",
       "freq     242   200   190   206   202   287   477  "
      ]
     },
     "execution_count": 144,
     "metadata": {},
     "output_type": "execute_result"
    }
   ],
   "source": [
    "df_og.describe()"
   ]
  },
  {
   "cell_type": "markdown",
   "metadata": {},
   "source": [
    "#### 3.1 Melting and pivoting"
   ]
  },
  {
   "cell_type": "code",
   "execution_count": 145,
   "metadata": {},
   "outputs": [
    {
     "data": {
      "text/html": [
       "<div>\n",
       "<style scoped>\n",
       "    .dataframe tbody tr th:only-of-type {\n",
       "        vertical-align: middle;\n",
       "    }\n",
       "\n",
       "    .dataframe tbody tr th {\n",
       "        vertical-align: top;\n",
       "    }\n",
       "\n",
       "    .dataframe thead th {\n",
       "        text-align: right;\n",
       "    }\n",
       "</style>\n",
       "<table border=\"1\" class=\"dataframe\">\n",
       "  <thead>\n",
       "    <tr style=\"text-align: right;\">\n",
       "      <th></th>\n",
       "      <th>Country Name</th>\n",
       "      <th>Country Code</th>\n",
       "      <th>Series Name</th>\n",
       "      <th>year</th>\n",
       "      <th>any_name</th>\n",
       "    </tr>\n",
       "  </thead>\n",
       "  <tbody>\n",
       "    <tr>\n",
       "      <th>79</th>\n",
       "      <td>Guam</td>\n",
       "      <td>GUM</td>\n",
       "      <td>Population, total</td>\n",
       "      <td>2001</td>\n",
       "      <td>161524</td>\n",
       "    </tr>\n",
       "    <tr>\n",
       "      <th>7432</th>\n",
       "      <td>Djibouti</td>\n",
       "      <td>DJI</td>\n",
       "      <td>GNI, Atlas method (current US$)</td>\n",
       "      <td>2021</td>\n",
       "      <td>3370977039.19323</td>\n",
       "    </tr>\n",
       "    <tr>\n",
       "      <th>5671</th>\n",
       "      <td>Bulgaria</td>\n",
       "      <td>BGR</td>\n",
       "      <td>Children out of school (% of primary school age)</td>\n",
       "      <td>2013</td>\n",
       "      <td>2.94944000244141</td>\n",
       "    </tr>\n",
       "    <tr>\n",
       "      <th>8047</th>\n",
       "      <td>Belgium</td>\n",
       "      <td>BEL</td>\n",
       "      <td>Children out of school, primary</td>\n",
       "      <td>2022</td>\n",
       "      <td>..</td>\n",
       "    </tr>\n",
       "    <tr>\n",
       "      <th>4933</th>\n",
       "      <td>Qatar</td>\n",
       "      <td>QAT</td>\n",
       "      <td>Children out of school, primary</td>\n",
       "      <td>2012</td>\n",
       "      <td>429</td>\n",
       "    </tr>\n",
       "  </tbody>\n",
       "</table>\n",
       "</div>"
      ],
      "text/plain": [
       "     Country Name Country Code  \\\n",
       "79           Guam          GUM   \n",
       "7432     Djibouti          DJI   \n",
       "5671     Bulgaria          BGR   \n",
       "8047      Belgium          BEL   \n",
       "4933        Qatar          QAT   \n",
       "\n",
       "                                           Series Name  year          any_name  \n",
       "79                                   Population, total  2001            161524  \n",
       "7432                   GNI, Atlas method (current US$)  2021  3370977039.19323  \n",
       "5671  Children out of school (% of primary school age)  2013  2.94944000244141  \n",
       "8047                   Children out of school, primary  2022                ..  \n",
       "4933                   Children out of school, primary  2012               429  "
      ]
     },
     "execution_count": 145,
     "metadata": {},
     "output_type": "execute_result"
    }
   ],
   "source": [
    "# melt the data frame \n",
    "year_cols = ['2001', '2002', '2003', '2011', '2012', '2013', '2021', '2022', '2023']\n",
    "\n",
    "df_melted = pd.melt(df_og, id_vars=['Country Name', 'Country Code', 'Series Name'], value_vars= year_cols, var_name='year', value_name='any_name')\n",
    "\n",
    "df_melted.sample(5)\n"
   ]
  },
  {
   "cell_type": "code",
   "execution_count": 146,
   "metadata": {},
   "outputs": [
    {
     "name": "stdout",
     "output_type": "stream",
     "text": [
      "(9765, 5)\n",
      "Series Name\n",
      "Population, total                                   1953\n",
      "Children out of school (% of primary school age)    1953\n",
      "Children out of school, primary                     1953\n",
      "GNI per capita, Atlas method (current US$)          1953\n",
      "GNI, Atlas method (current US$)                     1953\n",
      "Name: count, dtype: int64\n",
      "year\n",
      "2001    1085\n",
      "2002    1085\n",
      "2003    1085\n",
      "2011    1085\n",
      "2012    1085\n",
      "2013    1085\n",
      "2021    1085\n",
      "2022    1085\n",
      "2023    1085\n",
      "Name: count, dtype: int64\n",
      "1953\n",
      "1085\n"
     ]
    }
   ],
   "source": [
    "## Solution\n",
    "print(df_melted.shape)\n",
    "print(df_melted['Series Name'].value_counts())\n",
    "print(df_melted['year'].value_counts())\n",
    "\n",
    "print(217*9)\n",
    "print(217*5)"
   ]
  },
  {
   "cell_type": "code",
   "execution_count": 147,
   "metadata": {},
   "outputs": [
    {
     "name": "stdout",
     "output_type": "stream",
     "text": [
      "(1953, 8)\n"
     ]
    },
    {
     "data": {
      "text/html": [
       "<div>\n",
       "<style scoped>\n",
       "    .dataframe tbody tr th:only-of-type {\n",
       "        vertical-align: middle;\n",
       "    }\n",
       "\n",
       "    .dataframe tbody tr th {\n",
       "        vertical-align: top;\n",
       "    }\n",
       "\n",
       "    .dataframe thead th {\n",
       "        text-align: right;\n",
       "    }\n",
       "</style>\n",
       "<table border=\"1\" class=\"dataframe\">\n",
       "  <thead>\n",
       "    <tr style=\"text-align: right;\">\n",
       "      <th>Series Name</th>\n",
       "      <th>Country Name</th>\n",
       "      <th>Country Code</th>\n",
       "      <th>year</th>\n",
       "      <th>Children out of school (% of primary school age)</th>\n",
       "      <th>Children out of school, primary</th>\n",
       "      <th>GNI per capita, Atlas method (current US$)</th>\n",
       "      <th>GNI, Atlas method (current US$)</th>\n",
       "      <th>Population, total</th>\n",
       "    </tr>\n",
       "  </thead>\n",
       "  <tbody>\n",
       "    <tr>\n",
       "      <th>957</th>\n",
       "      <td>Kuwait</td>\n",
       "      <td>KWT</td>\n",
       "      <td>2011</td>\n",
       "      <td>0.0688399970531464</td>\n",
       "      <td>148</td>\n",
       "      <td>44130</td>\n",
       "      <td>138749369186.843</td>\n",
       "      <td>3143825</td>\n",
       "    </tr>\n",
       "    <tr>\n",
       "      <th>720</th>\n",
       "      <td>Guatemala</td>\n",
       "      <td>GTM</td>\n",
       "      <td>2001</td>\n",
       "      <td>15.7924299240112</td>\n",
       "      <td>311134</td>\n",
       "      <td>1600</td>\n",
       "      <td>18999604862.8036</td>\n",
       "      <td>11871565</td>\n",
       "    </tr>\n",
       "    <tr>\n",
       "      <th>1923</th>\n",
       "      <td>West Bank and Gaza</td>\n",
       "      <td>PSE</td>\n",
       "      <td>2021</td>\n",
       "      <td>7.80509996414185</td>\n",
       "      <td>41961</td>\n",
       "      <td>4270</td>\n",
       "      <td>21000435319.6176</td>\n",
       "      <td>4922749</td>\n",
       "    </tr>\n",
       "    <tr>\n",
       "      <th>285</th>\n",
       "      <td>Burundi</td>\n",
       "      <td>BDI</td>\n",
       "      <td>2021</td>\n",
       "      <td>19.0900001525879</td>\n",
       "      <td>431613</td>\n",
       "      <td>220</td>\n",
       "      <td>2815868449.84815</td>\n",
       "      <td>12551213</td>\n",
       "    </tr>\n",
       "  </tbody>\n",
       "</table>\n",
       "</div>"
      ],
      "text/plain": [
       "Series Name        Country Name Country Code  year  \\\n",
       "957                      Kuwait          KWT  2011   \n",
       "720                   Guatemala          GTM  2001   \n",
       "1923         West Bank and Gaza          PSE  2021   \n",
       "285                     Burundi          BDI  2021   \n",
       "\n",
       "Series Name Children out of school (% of primary school age)  \\\n",
       "957                                       0.0688399970531464   \n",
       "720                                         15.7924299240112   \n",
       "1923                                        7.80509996414185   \n",
       "285                                         19.0900001525879   \n",
       "\n",
       "Series Name Children out of school, primary  \\\n",
       "957                                     148   \n",
       "720                                  311134   \n",
       "1923                                  41961   \n",
       "285                                  431613   \n",
       "\n",
       "Series Name GNI per capita, Atlas method (current US$)  \\\n",
       "957                                              44130   \n",
       "720                                               1600   \n",
       "1923                                              4270   \n",
       "285                                                220   \n",
       "\n",
       "Series Name GNI, Atlas method (current US$) Population, total  \n",
       "957                        138749369186.843           3143825  \n",
       "720                        18999604862.8036          11871565  \n",
       "1923                       21000435319.6176           4922749  \n",
       "285                        2815868449.84815          12551213  "
      ]
     },
     "execution_count": 147,
     "metadata": {},
     "output_type": "execute_result"
    }
   ],
   "source": [
    "# pivot the data frame\n",
    "pivoted_df = df_melted.pivot(index=['Country Name', 'Country Code', 'year'], columns='Series Name', values='any_name').reset_index()\n",
    "print(pivoted_df.shape)\n",
    "pivoted_df.sample(4)"
   ]
  },
  {
   "cell_type": "markdown",
   "metadata": {},
   "source": [
    "#### 3.2 Renaming & missingness"
   ]
  },
  {
   "cell_type": "code",
   "execution_count": 148,
   "metadata": {},
   "outputs": [],
   "source": [
    "df = pivoted_df.copy()"
   ]
  },
  {
   "cell_type": "code",
   "execution_count": 149,
   "metadata": {},
   "outputs": [
    {
     "name": "stdout",
     "output_type": "stream",
     "text": [
      "Series Name Country Name Country Code  year  \\\n",
      "0            Afghanistan          AFG  2001   \n",
      "1            Afghanistan          AFG  2002   \n",
      "2            Afghanistan          AFG  2003   \n",
      "3            Afghanistan          AFG  2011   \n",
      "4            Afghanistan          AFG  2012   \n",
      "...                  ...          ...   ...   \n",
      "1948            Zimbabwe          ZWE  2012   \n",
      "1949            Zimbabwe          ZWE  2013   \n",
      "1950            Zimbabwe          ZWE  2021   \n",
      "1951            Zimbabwe          ZWE  2022   \n",
      "1952            Zimbabwe          ZWE  2023   \n",
      "\n",
      "Series Name Children out of school (% of primary school age)  \\\n",
      "0                                                         ..   \n",
      "1                                                         ..   \n",
      "2                                                         ..   \n",
      "3                                                         ..   \n",
      "4                                                         ..   \n",
      "...                                                      ...   \n",
      "1948                                        5.13709020614624   \n",
      "1949                                        6.34544992446899   \n",
      "1950                                        6.27299976348877   \n",
      "1951                                        5.58699989318848   \n",
      "1952                                                      ..   \n",
      "\n",
      "Series Name Children out of school, primary  \\\n",
      "0                                        ..   \n",
      "1                                        ..   \n",
      "2                                        ..   \n",
      "3                                        ..   \n",
      "4                                        ..   \n",
      "...                                     ...   \n",
      "1948                                 132003   \n",
      "1949                                 163860   \n",
      "1950                                 189407   \n",
      "1951                                 171679   \n",
      "1952                                     ..   \n",
      "\n",
      "Series Name GNI per capita, Atlas method (current US$)  \\\n",
      "0                                                   ..   \n",
      "1                                                  180   \n",
      "2                                                  190   \n",
      "3                                                  550   \n",
      "4                                                  640   \n",
      "...                                                ...   \n",
      "1948                                              1120   \n",
      "1949                                              1200   \n",
      "1950                                              1540   \n",
      "1951                                              1720   \n",
      "1952                                              1740   \n",
      "\n",
      "Series Name GNI, Atlas method (current US$) Population, total  \n",
      "0                                        ..          19688632  \n",
      "1                          3855298263.95658          21000256  \n",
      "2                          4330114357.75217          22645130  \n",
      "3                          16062706809.4182          29249157  \n",
      "4                          19575474863.7514          30466479  \n",
      "...                                     ...               ...  \n",
      "1948                       14854556176.2828          13265331  \n",
      "1949                       16249407147.6579          13555422  \n",
      "1950                       24553581681.8257          15993524  \n",
      "1951                       28003360601.3528          16320537  \n",
      "1952                       29075307302.8481          16665409  \n",
      "\n",
      "[1953 rows x 8 columns]\n"
     ]
    },
    {
     "data": {
      "text/html": [
       "<div>\n",
       "<style scoped>\n",
       "    .dataframe tbody tr th:only-of-type {\n",
       "        vertical-align: middle;\n",
       "    }\n",
       "\n",
       "    .dataframe tbody tr th {\n",
       "        vertical-align: top;\n",
       "    }\n",
       "\n",
       "    .dataframe thead th {\n",
       "        text-align: right;\n",
       "    }\n",
       "</style>\n",
       "<table border=\"1\" class=\"dataframe\">\n",
       "  <thead>\n",
       "    <tr style=\"text-align: right;\">\n",
       "      <th>Series Name</th>\n",
       "      <th>Country Name</th>\n",
       "      <th>year</th>\n",
       "      <th>ps_out_%</th>\n",
       "      <th>ps_out_no</th>\n",
       "      <th>GNIPC</th>\n",
       "      <th>GNI</th>\n",
       "      <th>population</th>\n",
       "    </tr>\n",
       "    <tr>\n",
       "      <th>isocode</th>\n",
       "      <th></th>\n",
       "      <th></th>\n",
       "      <th></th>\n",
       "      <th></th>\n",
       "      <th></th>\n",
       "      <th></th>\n",
       "      <th></th>\n",
       "    </tr>\n",
       "  </thead>\n",
       "  <tbody>\n",
       "    <tr>\n",
       "      <th>AFG</th>\n",
       "      <td>Afghanistan</td>\n",
       "      <td>2001</td>\n",
       "      <td>..</td>\n",
       "      <td>..</td>\n",
       "      <td>..</td>\n",
       "      <td>..</td>\n",
       "      <td>19688632</td>\n",
       "    </tr>\n",
       "    <tr>\n",
       "      <th>AFG</th>\n",
       "      <td>Afghanistan</td>\n",
       "      <td>2002</td>\n",
       "      <td>..</td>\n",
       "      <td>..</td>\n",
       "      <td>180</td>\n",
       "      <td>3855298263.95658</td>\n",
       "      <td>21000256</td>\n",
       "    </tr>\n",
       "    <tr>\n",
       "      <th>AFG</th>\n",
       "      <td>Afghanistan</td>\n",
       "      <td>2003</td>\n",
       "      <td>..</td>\n",
       "      <td>..</td>\n",
       "      <td>190</td>\n",
       "      <td>4330114357.75217</td>\n",
       "      <td>22645130</td>\n",
       "    </tr>\n",
       "    <tr>\n",
       "      <th>AFG</th>\n",
       "      <td>Afghanistan</td>\n",
       "      <td>2011</td>\n",
       "      <td>..</td>\n",
       "      <td>..</td>\n",
       "      <td>550</td>\n",
       "      <td>16062706809.4182</td>\n",
       "      <td>29249157</td>\n",
       "    </tr>\n",
       "    <tr>\n",
       "      <th>AFG</th>\n",
       "      <td>Afghanistan</td>\n",
       "      <td>2012</td>\n",
       "      <td>..</td>\n",
       "      <td>..</td>\n",
       "      <td>640</td>\n",
       "      <td>19575474863.7514</td>\n",
       "      <td>30466479</td>\n",
       "    </tr>\n",
       "    <tr>\n",
       "      <th>...</th>\n",
       "      <td>...</td>\n",
       "      <td>...</td>\n",
       "      <td>...</td>\n",
       "      <td>...</td>\n",
       "      <td>...</td>\n",
       "      <td>...</td>\n",
       "      <td>...</td>\n",
       "    </tr>\n",
       "    <tr>\n",
       "      <th>ZWE</th>\n",
       "      <td>Zimbabwe</td>\n",
       "      <td>2012</td>\n",
       "      <td>5.13709020614624</td>\n",
       "      <td>132003</td>\n",
       "      <td>1120</td>\n",
       "      <td>14854556176.2828</td>\n",
       "      <td>13265331</td>\n",
       "    </tr>\n",
       "    <tr>\n",
       "      <th>ZWE</th>\n",
       "      <td>Zimbabwe</td>\n",
       "      <td>2013</td>\n",
       "      <td>6.34544992446899</td>\n",
       "      <td>163860</td>\n",
       "      <td>1200</td>\n",
       "      <td>16249407147.6579</td>\n",
       "      <td>13555422</td>\n",
       "    </tr>\n",
       "    <tr>\n",
       "      <th>ZWE</th>\n",
       "      <td>Zimbabwe</td>\n",
       "      <td>2021</td>\n",
       "      <td>6.27299976348877</td>\n",
       "      <td>189407</td>\n",
       "      <td>1540</td>\n",
       "      <td>24553581681.8257</td>\n",
       "      <td>15993524</td>\n",
       "    </tr>\n",
       "    <tr>\n",
       "      <th>ZWE</th>\n",
       "      <td>Zimbabwe</td>\n",
       "      <td>2022</td>\n",
       "      <td>5.58699989318848</td>\n",
       "      <td>171679</td>\n",
       "      <td>1720</td>\n",
       "      <td>28003360601.3528</td>\n",
       "      <td>16320537</td>\n",
       "    </tr>\n",
       "    <tr>\n",
       "      <th>ZWE</th>\n",
       "      <td>Zimbabwe</td>\n",
       "      <td>2023</td>\n",
       "      <td>..</td>\n",
       "      <td>..</td>\n",
       "      <td>1740</td>\n",
       "      <td>29075307302.8481</td>\n",
       "      <td>16665409</td>\n",
       "    </tr>\n",
       "  </tbody>\n",
       "</table>\n",
       "<p>1953 rows × 7 columns</p>\n",
       "</div>"
      ],
      "text/plain": [
       "Series Name Country Name  year          ps_out_% ps_out_no GNIPC  \\\n",
       "isocode                                                            \n",
       "AFG          Afghanistan  2001                ..        ..    ..   \n",
       "AFG          Afghanistan  2002                ..        ..   180   \n",
       "AFG          Afghanistan  2003                ..        ..   190   \n",
       "AFG          Afghanistan  2011                ..        ..   550   \n",
       "AFG          Afghanistan  2012                ..        ..   640   \n",
       "...                  ...   ...               ...       ...   ...   \n",
       "ZWE             Zimbabwe  2012  5.13709020614624    132003  1120   \n",
       "ZWE             Zimbabwe  2013  6.34544992446899    163860  1200   \n",
       "ZWE             Zimbabwe  2021  6.27299976348877    189407  1540   \n",
       "ZWE             Zimbabwe  2022  5.58699989318848    171679  1720   \n",
       "ZWE             Zimbabwe  2023                ..        ..  1740   \n",
       "\n",
       "Series Name               GNI population  \n",
       "isocode                                   \n",
       "AFG                        ..   19688632  \n",
       "AFG          3855298263.95658   21000256  \n",
       "AFG          4330114357.75217   22645130  \n",
       "AFG          16062706809.4182   29249157  \n",
       "AFG          19575474863.7514   30466479  \n",
       "...                       ...        ...  \n",
       "ZWE          14854556176.2828   13265331  \n",
       "ZWE          16249407147.6579   13555422  \n",
       "ZWE          24553581681.8257   15993524  \n",
       "ZWE          28003360601.3528   16320537  \n",
       "ZWE          29075307302.8481   16665409  \n",
       "\n",
       "[1953 rows x 7 columns]"
      ]
     },
     "execution_count": 149,
     "metadata": {},
     "output_type": "execute_result"
    }
   ],
   "source": [
    "rename_dict = {\n",
    "    'Country Code' : 'isocode',\n",
    "    'Children out of school (% of primary school age)' : 'ps_out_%',\n",
    "    'Children out of school, primary': \"ps_out_no\",\n",
    "    \"GNI per capita, Atlas method (current US$)\": \"GNIPC\",\n",
    "    \"GNI, Atlas method (current US$)\":\"GNI\",\n",
    "    \"Population, total\": \"population\"\n",
    "    \n",
    "}\n",
    "print(df)\n",
    "\n",
    "df.rename(columns=rename_dict, inplace=True)\n",
    "\n",
    "df.set_index('isocode', inplace= True)\n",
    "\n",
    "df"
   ]
  },
  {
   "cell_type": "code",
   "execution_count": 183,
   "metadata": {},
   "outputs": [
    {
     "ename": "KeyError",
     "evalue": "'[True True True ... False False True] not found in axis'",
     "output_type": "error",
     "traceback": [
      "\u001b[0;31m---------------------------------------------------------------------------\u001b[0m",
      "\u001b[0;31mKeyError\u001b[0m                                  Traceback (most recent call last)",
      "\u001b[0;32m/var/folders/_k/4jmlcdh94fn8f_g2j15scs2m0000gn/T/ipykernel_4186/2983791877.py\u001b[0m in \u001b[0;36m?\u001b[0;34m()\u001b[0m\n\u001b[1;32m      1\u001b[0m \u001b[0;31m# round to two decimal places\u001b[0m\u001b[0;34m\u001b[0m\u001b[0;34m\u001b[0m\u001b[0m\n\u001b[0;32m----> 2\u001b[0;31m \u001b[0mdf\u001b[0m\u001b[0;34m.\u001b[0m\u001b[0mdrop\u001b[0m\u001b[0;34m(\u001b[0m\u001b[0mdf\u001b[0m\u001b[0;34m[\u001b[0m\u001b[0;34m\"ps_out_%\"\u001b[0m\u001b[0;34m]\u001b[0m \u001b[0;34m==\u001b[0m \u001b[0;34m\"..\"\u001b[0m\u001b[0;34m)\u001b[0m\u001b[0;34m\u001b[0m\u001b[0;34m\u001b[0m\u001b[0m\n\u001b[0m\u001b[1;32m      3\u001b[0m \u001b[0;34m\u001b[0m\u001b[0m\n\u001b[1;32m      4\u001b[0m \u001b[0mdf\u001b[0m\u001b[0;34m[\u001b[0m\u001b[0;34m'ps_out_%'\u001b[0m\u001b[0;34m]\u001b[0m \u001b[0;34m=\u001b[0m \u001b[0mdf\u001b[0m\u001b[0;34m[\u001b[0m\u001b[0;34m'ps_out_%'\u001b[0m\u001b[0;34m]\u001b[0m\u001b[0;34m.\u001b[0m\u001b[0mastype\u001b[0m\u001b[0;34m(\u001b[0m\u001b[0mfloat\u001b[0m\u001b[0;34m)\u001b[0m\u001b[0;34m.\u001b[0m\u001b[0mround\u001b[0m\u001b[0;34m(\u001b[0m\u001b[0;36m3\u001b[0m\u001b[0;34m)\u001b[0m\u001b[0;34m\u001b[0m\u001b[0;34m\u001b[0m\u001b[0m\n\u001b[1;32m      5\u001b[0m \u001b[0mdf\u001b[0m\u001b[0;34m[\u001b[0m\u001b[0;34m'ps_out_%'\u001b[0m\u001b[0;34m]\u001b[0m\u001b[0;34m\u001b[0m\u001b[0;34m\u001b[0m\u001b[0m\n",
      "\u001b[0;32m~/Desktop/brushup_files/brushup_env/lib/python3.12/site-packages/pandas/core/frame.py\u001b[0m in \u001b[0;36m?\u001b[0;34m(self, labels, axis, index, columns, level, inplace, errors)\u001b[0m\n\u001b[1;32m   5577\u001b[0m                 \u001b[0mweight\u001b[0m  \u001b[0;36m250.0\u001b[0m   \u001b[0;36m150.0\u001b[0m\u001b[0;34m\u001b[0m\u001b[0;34m\u001b[0m\u001b[0m\n\u001b[1;32m   5578\u001b[0m         \u001b[0mfalcon\u001b[0m  \u001b[0mspeed\u001b[0m   \u001b[0;36m320.0\u001b[0m   \u001b[0;36m250.0\u001b[0m\u001b[0;34m\u001b[0m\u001b[0;34m\u001b[0m\u001b[0m\n\u001b[1;32m   5579\u001b[0m                 \u001b[0mweight\u001b[0m  \u001b[0;36m1.0\u001b[0m     \u001b[0;36m0.8\u001b[0m\u001b[0;34m\u001b[0m\u001b[0;34m\u001b[0m\u001b[0m\n\u001b[1;32m   5580\u001b[0m         \"\"\"\n\u001b[0;32m-> 5581\u001b[0;31m         return super().drop(\n\u001b[0m\u001b[1;32m   5582\u001b[0m             \u001b[0mlabels\u001b[0m\u001b[0;34m=\u001b[0m\u001b[0mlabels\u001b[0m\u001b[0;34m,\u001b[0m\u001b[0;34m\u001b[0m\u001b[0;34m\u001b[0m\u001b[0m\n\u001b[1;32m   5583\u001b[0m             \u001b[0maxis\u001b[0m\u001b[0;34m=\u001b[0m\u001b[0maxis\u001b[0m\u001b[0;34m,\u001b[0m\u001b[0;34m\u001b[0m\u001b[0;34m\u001b[0m\u001b[0m\n\u001b[1;32m   5584\u001b[0m             \u001b[0mindex\u001b[0m\u001b[0;34m=\u001b[0m\u001b[0mindex\u001b[0m\u001b[0;34m,\u001b[0m\u001b[0;34m\u001b[0m\u001b[0;34m\u001b[0m\u001b[0m\n",
      "\u001b[0;32m~/Desktop/brushup_files/brushup_env/lib/python3.12/site-packages/pandas/core/generic.py\u001b[0m in \u001b[0;36m?\u001b[0;34m(self, labels, axis, index, columns, level, inplace, errors)\u001b[0m\n\u001b[1;32m   4784\u001b[0m         \u001b[0mobj\u001b[0m \u001b[0;34m=\u001b[0m \u001b[0mself\u001b[0m\u001b[0;34m\u001b[0m\u001b[0;34m\u001b[0m\u001b[0m\n\u001b[1;32m   4785\u001b[0m \u001b[0;34m\u001b[0m\u001b[0m\n\u001b[1;32m   4786\u001b[0m         \u001b[0;32mfor\u001b[0m \u001b[0maxis\u001b[0m\u001b[0;34m,\u001b[0m \u001b[0mlabels\u001b[0m \u001b[0;32min\u001b[0m \u001b[0maxes\u001b[0m\u001b[0;34m.\u001b[0m\u001b[0mitems\u001b[0m\u001b[0;34m(\u001b[0m\u001b[0;34m)\u001b[0m\u001b[0;34m:\u001b[0m\u001b[0;34m\u001b[0m\u001b[0;34m\u001b[0m\u001b[0m\n\u001b[1;32m   4787\u001b[0m             \u001b[0;32mif\u001b[0m \u001b[0mlabels\u001b[0m \u001b[0;32mis\u001b[0m \u001b[0;32mnot\u001b[0m \u001b[0;32mNone\u001b[0m\u001b[0;34m:\u001b[0m\u001b[0;34m\u001b[0m\u001b[0;34m\u001b[0m\u001b[0m\n\u001b[0;32m-> 4788\u001b[0;31m                 \u001b[0mobj\u001b[0m \u001b[0;34m=\u001b[0m \u001b[0mobj\u001b[0m\u001b[0;34m.\u001b[0m\u001b[0m_drop_axis\u001b[0m\u001b[0;34m(\u001b[0m\u001b[0mlabels\u001b[0m\u001b[0;34m,\u001b[0m \u001b[0maxis\u001b[0m\u001b[0;34m,\u001b[0m \u001b[0mlevel\u001b[0m\u001b[0;34m=\u001b[0m\u001b[0mlevel\u001b[0m\u001b[0;34m,\u001b[0m \u001b[0merrors\u001b[0m\u001b[0;34m=\u001b[0m\u001b[0merrors\u001b[0m\u001b[0;34m)\u001b[0m\u001b[0;34m\u001b[0m\u001b[0;34m\u001b[0m\u001b[0m\n\u001b[0m\u001b[1;32m   4789\u001b[0m \u001b[0;34m\u001b[0m\u001b[0m\n\u001b[1;32m   4790\u001b[0m         \u001b[0;32mif\u001b[0m \u001b[0minplace\u001b[0m\u001b[0;34m:\u001b[0m\u001b[0;34m\u001b[0m\u001b[0;34m\u001b[0m\u001b[0m\n\u001b[1;32m   4791\u001b[0m             \u001b[0mself\u001b[0m\u001b[0;34m.\u001b[0m\u001b[0m_update_inplace\u001b[0m\u001b[0;34m(\u001b[0m\u001b[0mobj\u001b[0m\u001b[0;34m)\u001b[0m\u001b[0;34m\u001b[0m\u001b[0;34m\u001b[0m\u001b[0m\n",
      "\u001b[0;32m~/Desktop/brushup_files/brushup_env/lib/python3.12/site-packages/pandas/core/generic.py\u001b[0m in \u001b[0;36m?\u001b[0;34m(self, labels, axis, level, errors, only_slice)\u001b[0m\n\u001b[1;32m   4855\u001b[0m                 \u001b[0mmask\u001b[0m \u001b[0;34m=\u001b[0m \u001b[0;34m~\u001b[0m\u001b[0maxis\u001b[0m\u001b[0;34m.\u001b[0m\u001b[0misin\u001b[0m\u001b[0;34m(\u001b[0m\u001b[0mlabels\u001b[0m\u001b[0;34m)\u001b[0m\u001b[0;34m\u001b[0m\u001b[0;34m\u001b[0m\u001b[0m\n\u001b[1;32m   4856\u001b[0m                 \u001b[0;31m# Check if label doesn't exist along axis\u001b[0m\u001b[0;34m\u001b[0m\u001b[0;34m\u001b[0m\u001b[0m\n\u001b[1;32m   4857\u001b[0m                 \u001b[0mlabels_missing\u001b[0m \u001b[0;34m=\u001b[0m \u001b[0;34m(\u001b[0m\u001b[0maxis\u001b[0m\u001b[0;34m.\u001b[0m\u001b[0mget_indexer_for\u001b[0m\u001b[0;34m(\u001b[0m\u001b[0mlabels\u001b[0m\u001b[0;34m)\u001b[0m \u001b[0;34m==\u001b[0m \u001b[0;34m-\u001b[0m\u001b[0;36m1\u001b[0m\u001b[0;34m)\u001b[0m\u001b[0;34m.\u001b[0m\u001b[0many\u001b[0m\u001b[0;34m(\u001b[0m\u001b[0;34m)\u001b[0m\u001b[0;34m\u001b[0m\u001b[0;34m\u001b[0m\u001b[0m\n\u001b[1;32m   4858\u001b[0m                 \u001b[0;32mif\u001b[0m \u001b[0merrors\u001b[0m \u001b[0;34m==\u001b[0m \u001b[0;34m\"raise\"\u001b[0m \u001b[0;32mand\u001b[0m \u001b[0mlabels_missing\u001b[0m\u001b[0;34m:\u001b[0m\u001b[0;34m\u001b[0m\u001b[0;34m\u001b[0m\u001b[0m\n\u001b[0;32m-> 4859\u001b[0;31m                     \u001b[0;32mraise\u001b[0m \u001b[0mKeyError\u001b[0m\u001b[0;34m(\u001b[0m\u001b[0;34mf\"\u001b[0m\u001b[0;34m{\u001b[0m\u001b[0mlabels\u001b[0m\u001b[0;34m}\u001b[0m\u001b[0;34m not found in axis\u001b[0m\u001b[0;34m\"\u001b[0m\u001b[0;34m)\u001b[0m\u001b[0;34m\u001b[0m\u001b[0;34m\u001b[0m\u001b[0m\n\u001b[0m\u001b[1;32m   4860\u001b[0m \u001b[0;34m\u001b[0m\u001b[0m\n\u001b[1;32m   4861\u001b[0m             \u001b[0;32mif\u001b[0m \u001b[0misinstance\u001b[0m\u001b[0;34m(\u001b[0m\u001b[0mmask\u001b[0m\u001b[0;34m.\u001b[0m\u001b[0mdtype\u001b[0m\u001b[0;34m,\u001b[0m \u001b[0mExtensionDtype\u001b[0m\u001b[0;34m)\u001b[0m\u001b[0;34m:\u001b[0m\u001b[0;34m\u001b[0m\u001b[0;34m\u001b[0m\u001b[0m\n\u001b[1;32m   4862\u001b[0m                 \u001b[0;31m# GH#45860\u001b[0m\u001b[0;34m\u001b[0m\u001b[0;34m\u001b[0m\u001b[0m\n",
      "\u001b[0;31mKeyError\u001b[0m: '[True True True ... False False True] not found in axis'"
     ]
    }
   ],
   "source": [
    "# round to two decimal places    \n",
    "df.drop(df[\"ps_out_%\"] == \"..\")\n",
    "\n",
    "df['ps_out_%'] = df['ps_out_%'].astype(float).round(3)\n",
    "df['ps_out_%']"
   ]
  },
  {
   "cell_type": "code",
   "execution_count": 151,
   "metadata": {},
   "outputs": [
    {
     "data": {
      "text/plain": [
       "<Axes: >"
      ]
     },
     "execution_count": 151,
     "metadata": {},
     "output_type": "execute_result"
    },
    {
     "data": {
      "image/png": "[encoded data removed]",
      "text/plain": [
       "<Figure size 2500x1000 with 2 Axes>"
      ]
     },
     "metadata": {},
     "output_type": "display_data"
    }
   ],
   "source": [
    "# inspect the missingness\n",
    "msno.matrix(df)\n"
   ]
  },
  {
   "cell_type": "code",
   "execution_count": 152,
   "metadata": {},
   "outputs": [
    {
     "ename": "KeyError",
     "evalue": "'primary_out_school_total'",
     "output_type": "error",
     "traceback": [
      "\u001b[0;31m---------------------------------------------------------------------------\u001b[0m",
      "\u001b[0;31mKeyError\u001b[0m                                  Traceback (most recent call last)",
      "File \u001b[0;32m~/Desktop/brushup_files/brushup_env/lib/python3.12/site-packages/pandas/core/indexes/base.py:3805\u001b[0m, in \u001b[0;36mIndex.get_loc\u001b[0;34m(self, key)\u001b[0m\n\u001b[1;32m   3804\u001b[0m \u001b[38;5;28;01mtry\u001b[39;00m:\n\u001b[0;32m-> 3805\u001b[0m     \u001b[38;5;28;01mreturn\u001b[39;00m \u001b[38;5;28;43mself\u001b[39;49m\u001b[38;5;241;43m.\u001b[39;49m\u001b[43m_engine\u001b[49m\u001b[38;5;241;43m.\u001b[39;49m\u001b[43mget_loc\u001b[49m\u001b[43m(\u001b[49m\u001b[43mcasted_key\u001b[49m\u001b[43m)\u001b[49m\n\u001b[1;32m   3806\u001b[0m \u001b[38;5;28;01mexcept\u001b[39;00m \u001b[38;5;167;01mKeyError\u001b[39;00m \u001b[38;5;28;01mas\u001b[39;00m err:\n",
      "File \u001b[0;32mindex.pyx:167\u001b[0m, in \u001b[0;36mpandas._libs.index.IndexEngine.get_loc\u001b[0;34m()\u001b[0m\n",
      "File \u001b[0;32mindex.pyx:196\u001b[0m, in \u001b[0;36mpandas._libs.index.IndexEngine.get_loc\u001b[0;34m()\u001b[0m\n",
      "File \u001b[0;32mpandas/_libs/hashtable_class_helper.pxi:7081\u001b[0m, in \u001b[0;36mpandas._libs.hashtable.PyObjectHashTable.get_item\u001b[0;34m()\u001b[0m\n",
      "File \u001b[0;32mpandas/_libs/hashtable_class_helper.pxi:7089\u001b[0m, in \u001b[0;36mpandas._libs.hashtable.PyObjectHashTable.get_item\u001b[0;34m()\u001b[0m\n",
      "\u001b[0;31mKeyError\u001b[0m: 'primary_out_school_total'",
      "\nThe above exception was the direct cause of the following exception:\n",
      "\u001b[0;31mKeyError\u001b[0m                                  Traceback (most recent call last)",
      "Cell \u001b[0;32mIn[152], line 2\u001b[0m\n\u001b[1;32m      1\u001b[0m \u001b[38;5;66;03m# what is going on?\u001b[39;00m\n\u001b[0;32m----> 2\u001b[0m \u001b[38;5;28mprint\u001b[39m(\u001b[43mdf\u001b[49m\u001b[38;5;241;43m.\u001b[39;49m\u001b[43mloc\u001b[49m\u001b[43m[\u001b[49m\u001b[38;5;124;43m'\u001b[39;49m\u001b[38;5;124;43mAFG\u001b[39;49m\u001b[38;5;124;43m'\u001b[39;49m\u001b[43m]\u001b[49m\u001b[43m[\u001b[49m\u001b[38;5;124;43m'\u001b[39;49m\u001b[38;5;124;43mprimary_out_school_total\u001b[39;49m\u001b[38;5;124;43m'\u001b[39;49m\u001b[43m]\u001b[49m[\u001b[38;5;241m0\u001b[39m])\n",
      "File \u001b[0;32m~/Desktop/brushup_files/brushup_env/lib/python3.12/site-packages/pandas/core/frame.py:4102\u001b[0m, in \u001b[0;36mDataFrame.__getitem__\u001b[0;34m(self, key)\u001b[0m\n\u001b[1;32m   4100\u001b[0m \u001b[38;5;28;01mif\u001b[39;00m \u001b[38;5;28mself\u001b[39m\u001b[38;5;241m.\u001b[39mcolumns\u001b[38;5;241m.\u001b[39mnlevels \u001b[38;5;241m>\u001b[39m \u001b[38;5;241m1\u001b[39m:\n\u001b[1;32m   4101\u001b[0m     \u001b[38;5;28;01mreturn\u001b[39;00m \u001b[38;5;28mself\u001b[39m\u001b[38;5;241m.\u001b[39m_getitem_multilevel(key)\n\u001b[0;32m-> 4102\u001b[0m indexer \u001b[38;5;241m=\u001b[39m \u001b[38;5;28;43mself\u001b[39;49m\u001b[38;5;241;43m.\u001b[39;49m\u001b[43mcolumns\u001b[49m\u001b[38;5;241;43m.\u001b[39;49m\u001b[43mget_loc\u001b[49m\u001b[43m(\u001b[49m\u001b[43mkey\u001b[49m\u001b[43m)\u001b[49m\n\u001b[1;32m   4103\u001b[0m \u001b[38;5;28;01mif\u001b[39;00m is_integer(indexer):\n\u001b[1;32m   4104\u001b[0m     indexer \u001b[38;5;241m=\u001b[39m [indexer]\n",
      "File \u001b[0;32m~/Desktop/brushup_files/brushup_env/lib/python3.12/site-packages/pandas/core/indexes/base.py:3812\u001b[0m, in \u001b[0;36mIndex.get_loc\u001b[0;34m(self, key)\u001b[0m\n\u001b[1;32m   3807\u001b[0m     \u001b[38;5;28;01mif\u001b[39;00m \u001b[38;5;28misinstance\u001b[39m(casted_key, \u001b[38;5;28mslice\u001b[39m) \u001b[38;5;129;01mor\u001b[39;00m (\n\u001b[1;32m   3808\u001b[0m         \u001b[38;5;28misinstance\u001b[39m(casted_key, abc\u001b[38;5;241m.\u001b[39mIterable)\n\u001b[1;32m   3809\u001b[0m         \u001b[38;5;129;01mand\u001b[39;00m \u001b[38;5;28many\u001b[39m(\u001b[38;5;28misinstance\u001b[39m(x, \u001b[38;5;28mslice\u001b[39m) \u001b[38;5;28;01mfor\u001b[39;00m x \u001b[38;5;129;01min\u001b[39;00m casted_key)\n\u001b[1;32m   3810\u001b[0m     ):\n\u001b[1;32m   3811\u001b[0m         \u001b[38;5;28;01mraise\u001b[39;00m InvalidIndexError(key)\n\u001b[0;32m-> 3812\u001b[0m     \u001b[38;5;28;01mraise\u001b[39;00m \u001b[38;5;167;01mKeyError\u001b[39;00m(key) \u001b[38;5;28;01mfrom\u001b[39;00m \u001b[38;5;21;01merr\u001b[39;00m\n\u001b[1;32m   3813\u001b[0m \u001b[38;5;28;01mexcept\u001b[39;00m \u001b[38;5;167;01mTypeError\u001b[39;00m:\n\u001b[1;32m   3814\u001b[0m     \u001b[38;5;66;03m# If we have a listlike key, _check_indexing_error will raise\u001b[39;00m\n\u001b[1;32m   3815\u001b[0m     \u001b[38;5;66;03m#  InvalidIndexError. Otherwise we fall through and re-raise\u001b[39;00m\n\u001b[1;32m   3816\u001b[0m     \u001b[38;5;66;03m#  the TypeError.\u001b[39;00m\n\u001b[1;32m   3817\u001b[0m     \u001b[38;5;28mself\u001b[39m\u001b[38;5;241m.\u001b[39m_check_indexing_error(key)\n",
      "\u001b[0;31mKeyError\u001b[0m: 'primary_out_school_total'"
     ]
    }
   ],
   "source": [
    "# what is going on?\n",
    "print(df.loc['AFG']['primary_out_school_total'][0])"
   ]
  },
  {
   "cell_type": "code",
   "execution_count": null,
   "metadata": {},
   "outputs": [],
   "source": [
    "# let's fix it\n",
    "df.replace(???, np.nan, inplace=True)\n",
    "\n",
    "msno.matrix(df)"
   ]
  },
  {
   "cell_type": "code",
   "execution_count": null,
   "metadata": {},
   "outputs": [],
   "source": [
    "# only keep the rows that don't have missing values\n",
    "\n",
    "dropped = df.???()\n",
    "\n",
    "# what are we inspecting here?\n",
    "print(dropped.index.nunique())"
   ]
  },
  {
   "cell_type": "code",
   "execution_count": null,
   "metadata": {},
   "outputs": [],
   "source": [
    "# sets are useful for finding differences!\n",
    "diff_iso = set(df.country.unique()) - set(dropped.country.unique())\n",
    "len(diff_iso)\n",
    "print(diff_iso)"
   ]
  },
  {
   "cell_type": "code",
   "execution_count": null,
   "metadata": {},
   "outputs": [],
   "source": [
    "#dropped.to_csv(cwd + \"/data/WB_reshaped_nomissing.csv\")"
   ]
  },
  {
   "cell_type": "markdown",
   "metadata": {},
   "source": [
    "#### 3.3 Groupby\n"
   ]
  },
  {
   "cell_type": "code",
   "execution_count": null,
   "metadata": {},
   "outputs": [],
   "source": [
    "df = dropped.copy()\n",
    "\n",
    "df.info()"
   ]
  },
  {
   "cell_type": "code",
   "execution_count": null,
   "metadata": {},
   "outputs": [],
   "source": [
    "df['???'] = df['???'].astype('???')"
   ]
  },
  {
   "cell_type": "code",
   "execution_count": null,
   "metadata": {},
   "outputs": [],
   "source": [
    "df.sample(4)"
   ]
  },
  {
   "cell_type": "code",
   "execution_count": null,
   "metadata": {},
   "outputs": [],
   "source": [
    "# only now we can grouby\n",
    "\n",
    "df.groupby(['country'])['gni_pc'].agg(['???'])"
   ]
  },
  {
   "cell_type": "markdown",
   "metadata": {},
   "source": [
    "#### 3.4 Features"
   ]
  },
  {
   "cell_type": "code",
   "execution_count": null,
   "metadata": {},
   "outputs": [],
   "source": [
    "df.describe()"
   ]
  },
  {
   "cell_type": "code",
   "execution_count": null,
   "metadata": {},
   "outputs": [],
   "source": [
    "# df['gni_bil'] = round(df['gni']/1_000_000_000, 3)\n",
    "# df['pop_mil'] = round(df['gni']/1_000_000, 3)\n",
    "# df['gni_bil_pc'] = round(df['gni_pc']/1_000_000_000, 3)\n",
    "# df['prim_oos_pct'] = round(df['gni_pc']/1_000_000_000, 3)"
   ]
  },
  {
   "cell_type": "markdown",
   "metadata": {},
   "source": [
    "Suppose you estimate that working-age population is roughly 60% of the total population. You can create a dependency ratio:"
   ]
  },
  {
   "cell_type": "code",
   "execution_count": null,
   "metadata": {},
   "outputs": [],
   "source": [
    "df['primary_aged_total'] =\n",
    "df['primary_aged_of_pop'] = \n",
    "\n",
    "# using appy\n",
    "\n",
    "df['dependency'] = df.apply(\n",
    "    lambda row: row['primary_out_school_total'] / (row['pop'] * 0.6), axis=1\n",
    ")\n",
    "\n",
    "df.sample(3)"
   ]
  },
  {
   "cell_type": "code",
   "execution_count": null,
   "metadata": {},
   "outputs": [],
   "source": [
    "# using a lambda function and mapping a dictionary\n",
    "\n",
    "income_groups = {\n",
    "    lambda x: x < 1045: 'low',\n",
    "    lambda x: 1045 <= x < 4095: 'low_mid',\n",
    "    lambda x: 4095 <= x < 12695: 'upp_mid',\n",
    "    lambda x: x >= 12695: 'high'\n",
    "}\n",
    "\n",
    "df['income_group'] = df['gni_pc'].map(\n",
    "    lambda x: next((v for k, v in income_groups.items() if k(x)), None)\n",
    ")\n",
    "df.income_group.value_counts()"
   ]
  },
  {
   "cell_type": "markdown",
   "metadata": {},
   "source": [
    "#### 3.5 Extra"
   ]
  },
  {
   "cell_type": "code",
   "execution_count": null,
   "metadata": {},
   "outputs": [],
   "source": [
    "df_highest_year = df.sort_values('???', ascending=False).drop_duplicates('???')\n",
    "df_highest_year"
   ]
  },
  {
   "cell_type": "code",
   "execution_count": null,
   "metadata": {},
   "outputs": [],
   "source": [
    "df_highest_year.boxplot(column='???')"
   ]
  },
  {
   "cell_type": "code",
   "execution_count": null,
   "metadata": {},
   "outputs": [],
   "source": [
    "df_highest_year.gni_pc.nlargest(10)"
   ]
  },
  {
   "cell_type": "code",
   "execution_count": null,
   "metadata": {},
   "outputs": [],
   "source": [
    "# show the box plot only for a given income group\n",
    "df_highest_year.loc[???].boxplot(column='gni_pc')"
   ]
  },
  {
   "cell_type": "code",
   "execution_count": null,
   "metadata": {},
   "outputs": [],
   "source": [
    "groups = ['high', 'upp_mid', 'low_mid', 'low']\n",
    "\n",
    "# Create a figure with subplots\n",
    "fig, axes = plt.subplots(1, len(groups), figsize=(12, 6))\n",
    "\n",
    "# Loop through each group and create a boxplot in the corresponding subplot\n",
    "for i, group in enumerate(groups):\n",
    "    df_highest_year.loc[df_highest_year['income_group'] == ???].boxplot(column='gni_pc', ax=axes[???])\n",
    "    axes[i].set_title(group)\n",
    "\n",
    "# Adjust layout\n",
    "plt.tight_layout()\n",
    "plt.show()"
   ]
  },
  {
   "cell_type": "code",
   "execution_count": null,
   "metadata": {},
   "outputs": [],
   "source": [
    "# compare\n",
    "df_highest_year.plot.scatter(x='???', y='???')"
   ]
  },
  {
   "cell_type": "code",
   "execution_count": null,
   "metadata": {},
   "outputs": [],
   "source": [
    "# compare\n",
    "df_highest_year."
   ]
  },
  {
   "cell_type": "code",
   "execution_count": null,
   "metadata": {},
   "outputs": [],
   "source": [
    "# Create a figure with subplots\n",
    "fig, axes = plt.subplots(1, len(groups), figsize=(12, 6))\n",
    "\n",
    "# Loop through each group and create a boxplot in the corresponding subplot\n",
    "for i, group in enumerate(groups):\n",
    "    ???\n",
    "    axes[i].set_title(group)\n",
    "\n",
    "# Adjust layout\n",
    "plt.tight_layout()\n",
    "plt.show()"
   ]
  },
  {
   "cell_type": "markdown",
   "metadata": {},
   "source": [
    "### 4. Background cleaning"
   ]
  },
  {
   "cell_type": "code",
   "execution_count": null,
   "metadata": {},
   "outputs": [],
   "source": [
    "df_WB = pd.read_csv(cwd + '/data/WB_full.csv')\n",
    "#df_meta = pd.read_csv(cwd + '/data/WB_metadata.csv')\n",
    "\n",
    "df_WB.head()"
   ]
  },
  {
   "cell_type": "code",
   "execution_count": null,
   "metadata": {},
   "outputs": [],
   "source": [
    "# clean column names\n",
    "cols_to_clean = df_WB.columns.tolist()\n",
    "rename_dict = {col: col.split()[0] for col in cols_to_clean if '[YR' in col}\n",
    "df_WB = df_WB.rename(columns=rename_dict)"
   ]
  },
  {
   "cell_type": "markdown",
   "metadata": {},
   "source": [
    "The net enrollment rate excludes overage and underage students and more accurately captures the system's coverage and internal efficiency. Differences between the gross enrollment ratio and the net enrollment rate show the incidence of overage and underage enrollments.\n",
    "https://databank.worldbank.org/metadataglossary/world-development-indicators/series/SE.PRE.ENRR"
   ]
  },
  {
   "cell_type": "code",
   "execution_count": null,
   "metadata": {},
   "outputs": [],
   "source": [
    "df_WB['Series Name'].unique()"
   ]
  },
  {
   "cell_type": "code",
   "execution_count": null,
   "metadata": {},
   "outputs": [],
   "source": [
    "series_to_keep = ['Population, total',\n",
    "                  'GNI, Atlas method (current US$)', 'GNI per capita, Atlas method (current US$)',\n",
    "                  'Children out of school, primary',\n",
    "                  'Children out of school (% of primary school age)'\n",
    "                  ]"
   ]
  },
  {
   "cell_type": "code",
   "execution_count": null,
   "metadata": {},
   "outputs": [],
   "source": [
    "df_choice = df_WB.loc[df_WB['Series Name'].isin(series_to_keep)]\n",
    "\n",
    "country_groups = [\n",
    "    \"AFE\", \"AFW\", \"ARB\", \"CSS\", \"CEB\", \"EAR\", \"EAS\", \"EAP\", \"TEA\", \"EMU\", \n",
    "    \"ECS\", \"ECA\", \"TEC\", \"EUU\", \"FCS\", \"HPC\", \"HIC\", \"IBD\", \"IBT\", \"IDB\", \n",
    "    \"IDX\", \"IDA\", \"LTE\", \"LCN\", \"LAC\", \"TLA\", \"LDC\", \"LMY\", \"LIC\", \"LMC\", \n",
    "    \"MEA\", \"MNA\", \"TMN\", \"MIC\", \"NAC\", \"INX\", \"OED\", \"OSS\", \"PSS\", \"PST\", \n",
    "    \"PRE\", \"SST\", \"SAS\", \"TSA\", \"SSF\", \"SSA\", \"TSS\", \"UMC\"]\n",
    "\n",
    "world = [\"WLD\"]\n",
    "\n",
    "filtered_df = df_choice[~df_choice['Country Code'].isin(country_groups + world)]\n",
    "\n",
    "# download data\n",
    "#filtered_df.to_csv(cwd + '/data/WB_more_data.csv', index=False)"
   ]
  },
  {
   "cell_type": "code",
   "execution_count": null,
   "metadata": {},
   "outputs": [],
   "source": [
    "filtered_df.sample(5)"
   ]
  }
 ],
 "metadata": {
  "kernelspec": {
   "display_name": "brushup",
   "language": "python",
   "name": "python3"
  },
  "language_info": {
   "codemirror_mode": {
    "name": "ipython",
    "version": 3
   },
   "file_extension": ".py",
   "mimetype": "text/x-python",
   "name": "python",
   "nbconvert_exporter": "python",
   "pygments_lexer": "ipython3",
   "version": "3.12.2"
  }
 },
 "nbformat": 4,
 "nbformat_minor": 2
}
