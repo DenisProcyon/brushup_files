{
 "cells": [
  {
   "cell_type": "markdown",
   "metadata": {},
   "source": [
    "Hi! This notebook is a labour of love. \n",
    "Please credit https://github.com/MargheritaPhilipp should you ever pass it on."
   ]
  },
  {
   "cell_type": "markdown",
   "metadata": {},
   "source": [
    "### 0. Intro\n",
    "\n",
    "A bit on markdown and native python things."
   ]
  },
  {
   "cell_type": "markdown",
   "metadata": {},
   "source": [
    "This section is written in mark down. Here you can \n",
    "1. Create numbered lists, make words **bold**, *italic*, or ***both***,\n",
    "- create bullet points lists\n",
    "and highlight `variable_names`\n",
    "\n",
    "Below are some example of things you can do that are just native to python and don't require the import of any libraries into your notebook.\n",
    "\n",
    "Also note that normally you would import all the libraries you need at the start of a .py or of your notebook. Here we make an exception to make it clear what sections use which of the libraries (at least for the first time within the notebook).\n"
   ]
  },
  {
   "cell_type": "code",
   "execution_count": 133,
   "metadata": {},
   "outputs": [
    {
     "name": "stdout",
     "output_type": "stream",
     "text": [
      "<class 'float'>\n",
      "8.0\n",
      "<class 'str'>\n",
      "hello_my_friend\n",
      "<class 'list'>\n",
      "['do', 'I', 'know', 'you']\n"
     ]
    }
   ],
   "source": [
    "# adding numbers\n",
    "print(type(4.2))\n",
    "print(4.2 + 3.8 )\n",
    "\n",
    "# \"adding\" strings together\n",
    "print(type('hello'))\n",
    "print('hello' + \"_my_\" + 'friend')\n",
    "\n",
    "# \"adding\" lists together\n",
    "print(type(['do', 'I']))\n",
    "print(['do', 'I']+ ['know', \"you\"])"
   ]
  },
  {
   "cell_type": "markdown",
   "metadata": {},
   "source": []
  },
  {
   "cell_type": "markdown",
   "metadata": {},
   "source": [
    "### 1. EDA on WB pop data\n",
    "\n",
    "Each section links to some of the questions that were tasks in class."
   ]
  },
  {
   "cell_type": "markdown",
   "metadata": {},
   "source": [
    "#### 1.1 Importing data\n",
    "\n",
    "Relative paths are better for collaboration.\n"
   ]
  },
  {
   "cell_type": "markdown",
   "metadata": {},
   "source": [
    "Addresses the following questions from class:\n",
    "- Import the WB data (can you do it via a relative path?)"
   ]
  },
  {
   "cell_type": "code",
   "execution_count": 134,
   "metadata": {},
   "outputs": [],
   "source": [
    "import pandas as pd\n",
    "\n",
    "# importing with absolute path: you won't be able to run this directly \n",
    "\n",
    "df = pd.read_csv('data/WB_pop_clean.csv')"
   ]
  },
  {
   "cell_type": "code",
   "execution_count": 135,
   "metadata": {},
   "outputs": [
    {
     "name": "stdout",
     "output_type": "stream",
     "text": [
      "/Users/denis/Desktop/brushup_files\n"
     ]
    }
   ],
   "source": [
    "import os\n",
    "\n",
    "# importing with relative path: if you have saved this file in a folder that has a data subfolder with the same csv inside, you can run this directly \n",
    "\n",
    "# get current working directory\n",
    "cwd = os.getcwd()\n",
    "print(cwd)\n",
    "\n",
    "df_og = pd.read_csv(cwd + '/data/WB_pop_clean.csv')"
   ]
  },
  {
   "cell_type": "markdown",
   "metadata": {},
   "source": [
    "#### 1.2. Starting inspection\n",
    "\n"
   ]
  },
  {
   "cell_type": "markdown",
   "metadata": {},
   "source": [
    "Addresses the following questions from class:\n",
    "- Display the head, check for missing values\n",
    "- Find the min and max values - overall and just for 2023\n",
    "- Which countries do they belong to?\n",
    "- Inspect the values in the “Country Code” column"
   ]
  },
  {
   "cell_type": "code",
   "execution_count": 136,
   "metadata": {},
   "outputs": [
    {
     "name": "stdout",
     "output_type": "stream",
     "text": [
      "(218, 13)\n"
     ]
    },
    {
     "data": {
      "text/html": [
       "<div>\n",
       "<style scoped>\n",
       "    .dataframe tbody tr th:only-of-type {\n",
       "        vertical-align: middle;\n",
       "    }\n",
       "\n",
       "    .dataframe tbody tr th {\n",
       "        vertical-align: top;\n",
       "    }\n",
       "\n",
       "    .dataframe thead th {\n",
       "        text-align: right;\n",
       "    }\n",
       "</style>\n",
       "<table border=\"1\" class=\"dataframe\">\n",
       "  <thead>\n",
       "    <tr style=\"text-align: right;\">\n",
       "      <th></th>\n",
       "      <th>Series Name</th>\n",
       "      <th>Series Code</th>\n",
       "      <th>Country Name</th>\n",
       "      <th>Country Code</th>\n",
       "      <th>2001</th>\n",
       "      <th>2002</th>\n",
       "      <th>2003</th>\n",
       "      <th>2011</th>\n",
       "      <th>2012</th>\n",
       "      <th>2013</th>\n",
       "      <th>2021</th>\n",
       "      <th>2022</th>\n",
       "      <th>2023</th>\n",
       "    </tr>\n",
       "  </thead>\n",
       "  <tbody>\n",
       "    <tr>\n",
       "      <th>0</th>\n",
       "      <td>Population, total</td>\n",
       "      <td>SP.POP.TOTL</td>\n",
       "      <td>Afghanistan</td>\n",
       "      <td>AFG</td>\n",
       "      <td>19688632</td>\n",
       "      <td>21000256</td>\n",
       "      <td>22645130</td>\n",
       "      <td>29249157</td>\n",
       "      <td>30466479</td>\n",
       "      <td>31541209</td>\n",
       "      <td>40099462</td>\n",
       "      <td>41128771</td>\n",
       "      <td>42239854</td>\n",
       "    </tr>\n",
       "    <tr>\n",
       "      <th>1</th>\n",
       "      <td>Population, total</td>\n",
       "      <td>SP.POP.TOTL</td>\n",
       "      <td>Albania</td>\n",
       "      <td>ALB</td>\n",
       "      <td>3060173</td>\n",
       "      <td>3051010</td>\n",
       "      <td>3039616</td>\n",
       "      <td>2905195</td>\n",
       "      <td>2900401</td>\n",
       "      <td>2895092</td>\n",
       "      <td>2811666</td>\n",
       "      <td>2777689</td>\n",
       "      <td>2745972</td>\n",
       "    </tr>\n",
       "    <tr>\n",
       "      <th>2</th>\n",
       "      <td>Population, total</td>\n",
       "      <td>SP.POP.TOTL</td>\n",
       "      <td>Algeria</td>\n",
       "      <td>DZA</td>\n",
       "      <td>31200985</td>\n",
       "      <td>31624696</td>\n",
       "      <td>32055883</td>\n",
       "      <td>36543541</td>\n",
       "      <td>37260563</td>\n",
       "      <td>38000626</td>\n",
       "      <td>44177969</td>\n",
       "      <td>44903225</td>\n",
       "      <td>45606480</td>\n",
       "    </tr>\n",
       "    <tr>\n",
       "      <th>3</th>\n",
       "      <td>Population, total</td>\n",
       "      <td>SP.POP.TOTL</td>\n",
       "      <td>American Samoa</td>\n",
       "      <td>ASM</td>\n",
       "      <td>58324</td>\n",
       "      <td>58177</td>\n",
       "      <td>57941</td>\n",
       "      <td>54310</td>\n",
       "      <td>53691</td>\n",
       "      <td>52995</td>\n",
       "      <td>45035</td>\n",
       "      <td>44273</td>\n",
       "      <td>43914</td>\n",
       "    </tr>\n",
       "    <tr>\n",
       "      <th>4</th>\n",
       "      <td>Population, total</td>\n",
       "      <td>SP.POP.TOTL</td>\n",
       "      <td>Andorra</td>\n",
       "      <td>AND</td>\n",
       "      <td>67820</td>\n",
       "      <td>70849</td>\n",
       "      <td>73907</td>\n",
       "      <td>70567</td>\n",
       "      <td>71013</td>\n",
       "      <td>71367</td>\n",
       "      <td>79034</td>\n",
       "      <td>79824</td>\n",
       "      <td>80088</td>\n",
       "    </tr>\n",
       "  </tbody>\n",
       "</table>\n",
       "</div>"
      ],
      "text/plain": [
       "         Series Name  Series Code    Country Name Country Code      2001  \\\n",
       "0  Population, total  SP.POP.TOTL     Afghanistan          AFG  19688632   \n",
       "1  Population, total  SP.POP.TOTL         Albania          ALB   3060173   \n",
       "2  Population, total  SP.POP.TOTL         Algeria          DZA  31200985   \n",
       "3  Population, total  SP.POP.TOTL  American Samoa          ASM     58324   \n",
       "4  Population, total  SP.POP.TOTL         Andorra          AND     67820   \n",
       "\n",
       "       2002      2003      2011      2012      2013      2021      2022  \\\n",
       "0  21000256  22645130  29249157  30466479  31541209  40099462  41128771   \n",
       "1   3051010   3039616   2905195   2900401   2895092   2811666   2777689   \n",
       "2  31624696  32055883  36543541  37260563  38000626  44177969  44903225   \n",
       "3     58177     57941     54310     53691     52995     45035     44273   \n",
       "4     70849     73907     70567     71013     71367     79034     79824   \n",
       "\n",
       "       2023  \n",
       "0  42239854  \n",
       "1   2745972  \n",
       "2  45606480  \n",
       "3     43914  \n",
       "4     80088  "
      ]
     },
     "execution_count": 136,
     "metadata": {},
     "output_type": "execute_result"
    }
   ],
   "source": [
    "# show the dimensions (rows and columns) of the data set and display first few rows\n",
    "print(df.shape)\n",
    "\n",
    "# other options:\n",
    "# df.tail(2)\n",
    "# df.sample(4)\n",
    "\n",
    "df_og.head() # default is 5"
   ]
  },
  {
   "cell_type": "code",
   "execution_count": 137,
   "metadata": {},
   "outputs": [
    {
     "data": {
      "text/plain": [
       "Index(['Series Name', 'Series Code', 'Country Name', 'Country Code', '2001',\n",
       "       '2002', '2003', '2011', '2012', '2013', '2021', '2022', '2023'],\n",
       "      dtype='object')"
      ]
     },
     "execution_count": 137,
     "metadata": {},
     "output_type": "execute_result"
    }
   ],
   "source": [
    "# sometimes not all columns are visible so it can be useful to get the full list\n",
    "\n",
    "df_og.columns"
   ]
  },
  {
   "cell_type": "markdown",
   "metadata": {},
   "source": [
    "Note that while .head() is a ***method*** I apply to the data frame, .shape and .columns are ***attributes*** of the data frame object/ class that I can call\n",
    "\n",
    "- Example with planets class (10 mins): https://www.youtube.com/watch?v=LwFnF9XoEf\n",
    "- Example with house class (7 mins): https://www.youtube.com/watch?v=3zoyA3U2Ka0\n"
   ]
  },
  {
   "cell_type": "code",
   "execution_count": 138,
   "metadata": {},
   "outputs": [
    {
     "name": "stdout",
     "output_type": "stream",
     "text": [
      "<class 'pandas.core.frame.DataFrame'>\n",
      "RangeIndex: 218 entries, 0 to 217\n",
      "Data columns (total 13 columns):\n",
      " #   Column        Non-Null Count  Dtype \n",
      "---  ------        --------------  ----- \n",
      " 0   Series Name   218 non-null    object\n",
      " 1   Series Code   218 non-null    object\n",
      " 2   Country Name  218 non-null    object\n",
      " 3   Country Code  218 non-null    object\n",
      " 4   2001          218 non-null    int64 \n",
      " 5   2002          218 non-null    int64 \n",
      " 6   2003          218 non-null    int64 \n",
      " 7   2011          218 non-null    int64 \n",
      " 8   2012          218 non-null    int64 \n",
      " 9   2013          218 non-null    int64 \n",
      " 10  2021          218 non-null    int64 \n",
      " 11  2022          218 non-null    int64 \n",
      " 12  2023          218 non-null    int64 \n",
      "dtypes: int64(9), object(4)\n",
      "memory usage: 22.3+ KB\n"
     ]
    }
   ],
   "source": [
    "# the info method also tells us which columns are present and what data type they contain\n",
    "# we know from the shape attribute that there are 218 rows and it seems that all rows contain data (are non-null), i.e. we don't have missing values\n",
    "\n",
    "df_og.info()"
   ]
  },
  {
   "cell_type": "code",
   "execution_count": 139,
   "metadata": {},
   "outputs": [
    {
     "data": {
      "text/html": [
       "<div>\n",
       "<style scoped>\n",
       "    .dataframe tbody tr th:only-of-type {\n",
       "        vertical-align: middle;\n",
       "    }\n",
       "\n",
       "    .dataframe tbody tr th {\n",
       "        vertical-align: top;\n",
       "    }\n",
       "\n",
       "    .dataframe thead th {\n",
       "        text-align: right;\n",
       "    }\n",
       "</style>\n",
       "<table border=\"1\" class=\"dataframe\">\n",
       "  <thead>\n",
       "    <tr style=\"text-align: right;\">\n",
       "      <th></th>\n",
       "      <th>2001</th>\n",
       "      <th>2002</th>\n",
       "      <th>2003</th>\n",
       "      <th>2011</th>\n",
       "      <th>2012</th>\n",
       "      <th>2013</th>\n",
       "      <th>2021</th>\n",
       "      <th>2022</th>\n",
       "      <th>2023</th>\n",
       "    </tr>\n",
       "  </thead>\n",
       "  <tbody>\n",
       "    <tr>\n",
       "      <th>count</th>\n",
       "      <td>2.180000e+02</td>\n",
       "      <td>2.180000e+02</td>\n",
       "      <td>2.180000e+02</td>\n",
       "      <td>2.180000e+02</td>\n",
       "      <td>2.180000e+02</td>\n",
       "      <td>2.180000e+02</td>\n",
       "      <td>2.180000e+02</td>\n",
       "      <td>2.180000e+02</td>\n",
       "      <td>2.180000e+02</td>\n",
       "    </tr>\n",
       "    <tr>\n",
       "      <th>mean</th>\n",
       "      <td>5.702126e+07</td>\n",
       "      <td>5.777115e+07</td>\n",
       "      <td>5.851666e+07</td>\n",
       "      <td>6.460916e+07</td>\n",
       "      <td>6.541101e+07</td>\n",
       "      <td>6.621822e+07</td>\n",
       "      <td>7.226807e+07</td>\n",
       "      <td>7.284406e+07</td>\n",
       "      <td>7.351661e+07</td>\n",
       "    </tr>\n",
       "    <tr>\n",
       "      <th>std</th>\n",
       "      <td>4.357249e+08</td>\n",
       "      <td>4.413970e+08</td>\n",
       "      <td>4.470272e+08</td>\n",
       "      <td>4.927859e+08</td>\n",
       "      <td>4.988148e+08</td>\n",
       "      <td>5.048778e+08</td>\n",
       "      <td>5.500182e+08</td>\n",
       "      <td>5.542406e+08</td>\n",
       "      <td>5.591759e+08</td>\n",
       "    </tr>\n",
       "    <tr>\n",
       "      <th>min</th>\n",
       "      <td>9.621000e+03</td>\n",
       "      <td>9.609000e+03</td>\n",
       "      <td>9.668000e+03</td>\n",
       "      <td>1.028300e+04</td>\n",
       "      <td>1.044400e+04</td>\n",
       "      <td>1.069400e+04</td>\n",
       "      <td>1.120400e+04</td>\n",
       "      <td>1.131200e+04</td>\n",
       "      <td>1.139600e+04</td>\n",
       "    </tr>\n",
       "    <tr>\n",
       "      <th>25%</th>\n",
       "      <td>6.252495e+05</td>\n",
       "      <td>6.425825e+05</td>\n",
       "      <td>6.631015e+05</td>\n",
       "      <td>7.210558e+05</td>\n",
       "      <td>7.268502e+05</td>\n",
       "      <td>7.335218e+05</td>\n",
       "      <td>8.088315e+05</td>\n",
       "      <td>8.157380e+05</td>\n",
       "      <td>8.233942e+05</td>\n",
       "    </tr>\n",
       "    <tr>\n",
       "      <th>50%</th>\n",
       "      <td>5.175659e+06</td>\n",
       "      <td>5.267269e+06</td>\n",
       "      <td>5.352080e+06</td>\n",
       "      <td>5.893246e+06</td>\n",
       "      <td>5.896596e+06</td>\n",
       "      <td>5.995436e+06</td>\n",
       "      <td>6.719538e+06</td>\n",
       "      <td>6.564773e+06</td>\n",
       "      <td>6.567063e+06</td>\n",
       "    </tr>\n",
       "    <tr>\n",
       "      <th>75%</th>\n",
       "      <td>1.716950e+07</td>\n",
       "      <td>1.764196e+07</td>\n",
       "      <td>1.812237e+07</td>\n",
       "      <td>2.214575e+07</td>\n",
       "      <td>2.245686e+07</td>\n",
       "      <td>2.226016e+07</td>\n",
       "      <td>2.590028e+07</td>\n",
       "      <td>2.617334e+07</td>\n",
       "      <td>2.706177e+07</td>\n",
       "    </tr>\n",
       "    <tr>\n",
       "      <th>max</th>\n",
       "      <td>6.226487e+09</td>\n",
       "      <td>6.308285e+09</td>\n",
       "      <td>6.389593e+09</td>\n",
       "      <td>7.053989e+09</td>\n",
       "      <td>7.141431e+09</td>\n",
       "      <td>7.229458e+09</td>\n",
       "      <td>7.888964e+09</td>\n",
       "      <td>7.951595e+09</td>\n",
       "      <td>8.024997e+09</td>\n",
       "    </tr>\n",
       "  </tbody>\n",
       "</table>\n",
       "</div>"
      ],
      "text/plain": [
       "               2001          2002          2003          2011          2012  \\\n",
       "count  2.180000e+02  2.180000e+02  2.180000e+02  2.180000e+02  2.180000e+02   \n",
       "mean   5.702126e+07  5.777115e+07  5.851666e+07  6.460916e+07  6.541101e+07   \n",
       "std    4.357249e+08  4.413970e+08  4.470272e+08  4.927859e+08  4.988148e+08   \n",
       "min    9.621000e+03  9.609000e+03  9.668000e+03  1.028300e+04  1.044400e+04   \n",
       "25%    6.252495e+05  6.425825e+05  6.631015e+05  7.210558e+05  7.268502e+05   \n",
       "50%    5.175659e+06  5.267269e+06  5.352080e+06  5.893246e+06  5.896596e+06   \n",
       "75%    1.716950e+07  1.764196e+07  1.812237e+07  2.214575e+07  2.245686e+07   \n",
       "max    6.226487e+09  6.308285e+09  6.389593e+09  7.053989e+09  7.141431e+09   \n",
       "\n",
       "               2013          2021          2022          2023  \n",
       "count  2.180000e+02  2.180000e+02  2.180000e+02  2.180000e+02  \n",
       "mean   6.621822e+07  7.226807e+07  7.284406e+07  7.351661e+07  \n",
       "std    5.048778e+08  5.500182e+08  5.542406e+08  5.591759e+08  \n",
       "min    1.069400e+04  1.120400e+04  1.131200e+04  1.139600e+04  \n",
       "25%    7.335218e+05  8.088315e+05  8.157380e+05  8.233942e+05  \n",
       "50%    5.995436e+06  6.719538e+06  6.564773e+06  6.567063e+06  \n",
       "75%    2.226016e+07  2.590028e+07  2.617334e+07  2.706177e+07  \n",
       "max    7.229458e+09  7.888964e+09  7.951595e+09  8.024997e+09  "
      ]
     },
     "execution_count": 139,
     "metadata": {},
     "output_type": "execute_result"
    }
   ],
   "source": [
    "# statistical summary of the numerical columns - we can already see a suspiciously high maximum value...\n",
    "\n",
    "df_og.describe()"
   ]
  },
  {
   "cell_type": "code",
   "execution_count": 140,
   "metadata": {},
   "outputs": [
    {
     "name": "stdout",
     "output_type": "stream",
     "text": [
      "mix and max vals for 2023:  11396 8024997028\n"
     ]
    }
   ],
   "source": [
    "# if I just want to find the min and max values for a speficic column:\n",
    "\n",
    "print('mix and max vals for 2023: ', df['2023'].min(), df['2023'].max())"
   ]
  },
  {
   "cell_type": "code",
   "execution_count": 141,
   "metadata": {},
   "outputs": [
    {
     "data": {
      "text/html": [
       "<div>\n",
       "<style scoped>\n",
       "    .dataframe tbody tr th:only-of-type {\n",
       "        vertical-align: middle;\n",
       "    }\n",
       "\n",
       "    .dataframe tbody tr th {\n",
       "        vertical-align: top;\n",
       "    }\n",
       "\n",
       "    .dataframe thead th {\n",
       "        text-align: right;\n",
       "    }\n",
       "</style>\n",
       "<table border=\"1\" class=\"dataframe\">\n",
       "  <thead>\n",
       "    <tr style=\"text-align: right;\">\n",
       "      <th></th>\n",
       "      <th>Series Name</th>\n",
       "      <th>Series Code</th>\n",
       "      <th>Country Name</th>\n",
       "      <th>Country Code</th>\n",
       "      <th>2001</th>\n",
       "      <th>2002</th>\n",
       "      <th>2003</th>\n",
       "      <th>2011</th>\n",
       "      <th>2012</th>\n",
       "      <th>2013</th>\n",
       "      <th>2021</th>\n",
       "      <th>2022</th>\n",
       "      <th>2023</th>\n",
       "    </tr>\n",
       "  </thead>\n",
       "  <tbody>\n",
       "    <tr>\n",
       "      <th>201</th>\n",
       "      <td>Population, total</td>\n",
       "      <td>SP.POP.TOTL</td>\n",
       "      <td>Tuvalu</td>\n",
       "      <td>TUV</td>\n",
       "      <td>9621</td>\n",
       "      <td>9609</td>\n",
       "      <td>9668</td>\n",
       "      <td>10700</td>\n",
       "      <td>10854</td>\n",
       "      <td>10918</td>\n",
       "      <td>11204</td>\n",
       "      <td>11312</td>\n",
       "      <td>11396</td>\n",
       "    </tr>\n",
       "  </tbody>\n",
       "</table>\n",
       "</div>"
      ],
      "text/plain": [
       "           Series Name  Series Code Country Name Country Code  2001  2002  \\\n",
       "201  Population, total  SP.POP.TOTL       Tuvalu          TUV  9621  9609   \n",
       "\n",
       "     2003   2011   2012   2013   2021   2022   2023  \n",
       "201  9668  10700  10854  10918  11204  11312  11396  "
      ]
     },
     "execution_count": 141,
     "metadata": {},
     "output_type": "execute_result"
    }
   ],
   "source": [
    "# one way to get the whole row for these values is to use loc\n",
    "\n",
    "df_og.loc[df['2023'] == df['2023'].min()]"
   ]
  },
  {
   "cell_type": "code",
   "execution_count": 142,
   "metadata": {},
   "outputs": [
    {
     "data": {
      "text/html": [
       "<div>\n",
       "<style scoped>\n",
       "    .dataframe tbody tr th:only-of-type {\n",
       "        vertical-align: middle;\n",
       "    }\n",
       "\n",
       "    .dataframe tbody tr th {\n",
       "        vertical-align: top;\n",
       "    }\n",
       "\n",
       "    .dataframe thead th {\n",
       "        text-align: right;\n",
       "    }\n",
       "</style>\n",
       "<table border=\"1\" class=\"dataframe\">\n",
       "  <thead>\n",
       "    <tr style=\"text-align: right;\">\n",
       "      <th></th>\n",
       "      <th>Series Name</th>\n",
       "      <th>Series Code</th>\n",
       "      <th>Country Name</th>\n",
       "      <th>Country Code</th>\n",
       "      <th>2001</th>\n",
       "      <th>2002</th>\n",
       "      <th>2003</th>\n",
       "      <th>2011</th>\n",
       "      <th>2012</th>\n",
       "      <th>2013</th>\n",
       "      <th>2021</th>\n",
       "      <th>2022</th>\n",
       "      <th>2023</th>\n",
       "    </tr>\n",
       "  </thead>\n",
       "  <tbody>\n",
       "    <tr>\n",
       "      <th>217</th>\n",
       "      <td>Population, total</td>\n",
       "      <td>SP.POP.TOTL</td>\n",
       "      <td>World</td>\n",
       "      <td>WLD</td>\n",
       "      <td>6226487141</td>\n",
       "      <td>6308284566</td>\n",
       "      <td>6389592840</td>\n",
       "      <td>7053988749</td>\n",
       "      <td>7141430933</td>\n",
       "      <td>7229458453</td>\n",
       "      <td>7888963821</td>\n",
       "      <td>7951595433</td>\n",
       "      <td>8024997028</td>\n",
       "    </tr>\n",
       "    <tr>\n",
       "      <th>89</th>\n",
       "      <td>Population, total</td>\n",
       "      <td>SP.POP.TOTL</td>\n",
       "      <td>India</td>\n",
       "      <td>IND</td>\n",
       "      <td>1078970907</td>\n",
       "      <td>1098313039</td>\n",
       "      <td>1117415123</td>\n",
       "      <td>1257621191</td>\n",
       "      <td>1274487215</td>\n",
       "      <td>1291132063</td>\n",
       "      <td>1407563842</td>\n",
       "      <td>1417173173</td>\n",
       "      <td>1428627663</td>\n",
       "    </tr>\n",
       "  </tbody>\n",
       "</table>\n",
       "</div>"
      ],
      "text/plain": [
       "           Series Name  Series Code Country Name Country Code        2001  \\\n",
       "217  Population, total  SP.POP.TOTL        World          WLD  6226487141   \n",
       "89   Population, total  SP.POP.TOTL        India          IND  1078970907   \n",
       "\n",
       "           2002        2003        2011        2012        2013        2021  \\\n",
       "217  6308284566  6389592840  7053988749  7141430933  7229458453  7888963821   \n",
       "89   1098313039  1117415123  1257621191  1274487215  1291132063  1407563842   \n",
       "\n",
       "           2022        2023  \n",
       "217  7951595433  8024997028  \n",
       "89   1417173173  1428627663  "
      ]
     },
     "execution_count": 142,
     "metadata": {},
     "output_type": "execute_result"
    }
   ],
   "source": [
    "# but this method is a bit more elegant and flexible\n",
    "\n",
    "df_og.nlargest(2, '2023')"
   ]
  },
  {
   "cell_type": "code",
   "execution_count": 143,
   "metadata": {},
   "outputs": [
    {
     "data": {
      "text/html": [
       "<div>\n",
       "<style scoped>\n",
       "    .dataframe tbody tr th:only-of-type {\n",
       "        vertical-align: middle;\n",
       "    }\n",
       "\n",
       "    .dataframe tbody tr th {\n",
       "        vertical-align: top;\n",
       "    }\n",
       "\n",
       "    .dataframe thead th {\n",
       "        text-align: right;\n",
       "    }\n",
       "</style>\n",
       "<table border=\"1\" class=\"dataframe\">\n",
       "  <thead>\n",
       "    <tr style=\"text-align: right;\">\n",
       "      <th></th>\n",
       "      <th>Series Name</th>\n",
       "      <th>Series Code</th>\n",
       "      <th>Country Name</th>\n",
       "      <th>Country Code</th>\n",
       "      <th>2001</th>\n",
       "      <th>2002</th>\n",
       "      <th>2003</th>\n",
       "      <th>2011</th>\n",
       "      <th>2012</th>\n",
       "      <th>2013</th>\n",
       "      <th>2021</th>\n",
       "      <th>2022</th>\n",
       "      <th>2023</th>\n",
       "    </tr>\n",
       "  </thead>\n",
       "  <tbody>\n",
       "    <tr>\n",
       "      <th>201</th>\n",
       "      <td>Population, total</td>\n",
       "      <td>SP.POP.TOTL</td>\n",
       "      <td>Tuvalu</td>\n",
       "      <td>TUV</td>\n",
       "      <td>9621</td>\n",
       "      <td>9609</td>\n",
       "      <td>9668</td>\n",
       "      <td>10700</td>\n",
       "      <td>10854</td>\n",
       "      <td>10918</td>\n",
       "      <td>11204</td>\n",
       "      <td>11312</td>\n",
       "      <td>11396</td>\n",
       "    </tr>\n",
       "    <tr>\n",
       "      <th>137</th>\n",
       "      <td>Population, total</td>\n",
       "      <td>SP.POP.TOTL</td>\n",
       "      <td>Nauru</td>\n",
       "      <td>NRU</td>\n",
       "      <td>10363</td>\n",
       "      <td>10351</td>\n",
       "      <td>10344</td>\n",
       "      <td>10283</td>\n",
       "      <td>10444</td>\n",
       "      <td>10694</td>\n",
       "      <td>12511</td>\n",
       "      <td>12668</td>\n",
       "      <td>12780</td>\n",
       "    </tr>\n",
       "    <tr>\n",
       "      <th>150</th>\n",
       "      <td>Population, total</td>\n",
       "      <td>SP.POP.TOTL</td>\n",
       "      <td>Palau</td>\n",
       "      <td>PLW</td>\n",
       "      <td>19828</td>\n",
       "      <td>19851</td>\n",
       "      <td>19880</td>\n",
       "      <td>18240</td>\n",
       "      <td>17946</td>\n",
       "      <td>17805</td>\n",
       "      <td>18024</td>\n",
       "      <td>18055</td>\n",
       "      <td>18058</td>\n",
       "    </tr>\n",
       "    <tr>\n",
       "      <th>27</th>\n",
       "      <td>Population, total</td>\n",
       "      <td>SP.POP.TOTL</td>\n",
       "      <td>British Virgin Islands</td>\n",
       "      <td>VGB</td>\n",
       "      <td>20657</td>\n",
       "      <td>21288</td>\n",
       "      <td>21982</td>\n",
       "      <td>27962</td>\n",
       "      <td>28421</td>\n",
       "      <td>28657</td>\n",
       "      <td>31122</td>\n",
       "      <td>31305</td>\n",
       "      <td>31538</td>\n",
       "    </tr>\n",
       "    <tr>\n",
       "      <th>183</th>\n",
       "      <td>Population, total</td>\n",
       "      <td>SP.POP.TOTL</td>\n",
       "      <td>St. Martin (French part)</td>\n",
       "      <td>MAF</td>\n",
       "      <td>30387</td>\n",
       "      <td>31160</td>\n",
       "      <td>31929</td>\n",
       "      <td>36350</td>\n",
       "      <td>36026</td>\n",
       "      <td>35639</td>\n",
       "      <td>31948</td>\n",
       "      <td>31791</td>\n",
       "      <td>32077</td>\n",
       "    </tr>\n",
       "  </tbody>\n",
       "</table>\n",
       "</div>"
      ],
      "text/plain": [
       "           Series Name  Series Code              Country Name Country Code  \\\n",
       "201  Population, total  SP.POP.TOTL                    Tuvalu          TUV   \n",
       "137  Population, total  SP.POP.TOTL                     Nauru          NRU   \n",
       "150  Population, total  SP.POP.TOTL                     Palau          PLW   \n",
       "27   Population, total  SP.POP.TOTL    British Virgin Islands          VGB   \n",
       "183  Population, total  SP.POP.TOTL  St. Martin (French part)          MAF   \n",
       "\n",
       "      2001   2002   2003   2011   2012   2013   2021   2022   2023  \n",
       "201   9621   9609   9668  10700  10854  10918  11204  11312  11396  \n",
       "137  10363  10351  10344  10283  10444  10694  12511  12668  12780  \n",
       "150  19828  19851  19880  18240  17946  17805  18024  18055  18058  \n",
       "27   20657  21288  21982  27962  28421  28657  31122  31305  31538  \n",
       "183  30387  31160  31929  36350  36026  35639  31948  31791  32077  "
      ]
     },
     "execution_count": 143,
     "metadata": {},
     "output_type": "execute_result"
    }
   ],
   "source": [
    "df_og.nsmallest(5, ['2023', '2001'])"
   ]
  },
  {
   "cell_type": "code",
   "execution_count": 144,
   "metadata": {},
   "outputs": [
    {
     "name": "stdout",
     "output_type": "stream",
     "text": [
      "218\n",
      "['Afghanistan' 'Albania' 'Algeria' 'American Samoa' 'Andorra' 'Angola'\n",
      " 'Antigua and Barbuda' 'Argentina' 'Armenia' 'Aruba' 'Australia' 'Austria'\n",
      " 'Azerbaijan' 'Bahamas, The' 'Bahrain' 'Bangladesh' 'Barbados' 'Belarus'\n",
      " 'Belgium' 'Belize' 'Benin' 'Bermuda' 'Bhutan' 'Bolivia'\n",
      " 'Bosnia and Herzegovina' 'Botswana' 'Brazil' 'British Virgin Islands'\n",
      " 'Brunei Darussalam' 'Bulgaria' 'Burkina Faso' 'Burundi' 'Cabo Verde'\n",
      " 'Cambodia' 'Cameroon' 'Canada' 'Cayman Islands'\n",
      " 'Central African Republic' 'Chad' 'Channel Islands' 'Chile' 'China'\n",
      " 'Colombia' 'Comoros' 'Congo, Dem. Rep.' 'Congo, Rep.' 'Costa Rica'\n",
      " \"Cote d'Ivoire\" 'Croatia' 'Cuba' 'Curacao' 'Cyprus' 'Czechia' 'Denmark'\n",
      " 'Djibouti' 'Dominica' 'Dominican Republic' 'Ecuador' 'Egypt, Arab Rep.'\n",
      " 'El Salvador' 'Equatorial Guinea' 'Eritrea' 'Estonia' 'Eswatini'\n",
      " 'Ethiopia' 'Faroe Islands' 'Fiji' 'Finland' 'France' 'French Polynesia'\n",
      " 'Gabon' 'Gambia, The' 'Georgia' 'Germany' 'Ghana' 'Gibraltar' 'Greece'\n",
      " 'Greenland' 'Grenada' 'Guam' 'Guatemala' 'Guinea' 'Guinea-Bissau'\n",
      " 'Guyana' 'Haiti' 'Honduras' 'Hong Kong SAR, China' 'Hungary' 'Iceland'\n",
      " 'India' 'Indonesia' 'Iran, Islamic Rep.' 'Iraq' 'Ireland' 'Isle of Man'\n",
      " 'Israel' 'Italy' 'Jamaica' 'Japan' 'Jordan' 'Kazakhstan' 'Kenya'\n",
      " 'Kiribati' \"Korea, Dem. People's Rep.\" 'Korea, Rep.' 'Kosovo' 'Kuwait'\n",
      " 'Kyrgyz Republic' 'Lao PDR' 'Latvia' 'Lebanon' 'Lesotho' 'Liberia'\n",
      " 'Libya' 'Liechtenstein' 'Lithuania' 'Luxembourg' 'Macao SAR, China'\n",
      " 'Madagascar' 'Malawi' 'Malaysia' 'Maldives' 'Mali' 'Malta'\n",
      " 'Marshall Islands' 'Mauritania' 'Mauritius' 'Mexico'\n",
      " 'Micronesia, Fed. Sts.' 'Moldova' 'Monaco' 'Mongolia' 'Montenegro'\n",
      " 'Morocco' 'Mozambique' 'Myanmar' 'Namibia' 'Nauru' 'Nepal' 'Netherlands'\n",
      " 'New Caledonia' 'New Zealand' 'Nicaragua' 'Niger' 'Nigeria'\n",
      " 'North Macedonia' 'Northern Mariana Islands' 'Norway' 'Oman' 'Pakistan'\n",
      " 'Palau' 'Panama' 'Papua New Guinea' 'Paraguay' 'Peru' 'Philippines'\n",
      " 'Poland' 'Portugal' 'Puerto Rico' 'Qatar' 'Romania' 'Russian Federation'\n",
      " 'Rwanda' 'Samoa' 'San Marino' 'Sao Tome and Principe' 'Saudi Arabia'\n",
      " 'Senegal' 'Serbia' 'Seychelles' 'Sierra Leone' 'Singapore'\n",
      " 'Sint Maarten (Dutch part)' 'Slovak Republic' 'Slovenia'\n",
      " 'Solomon Islands' 'Somalia' 'South Africa' 'South Sudan' 'Spain'\n",
      " 'Sri Lanka' 'St. Kitts and Nevis' 'St. Lucia' 'St. Martin (French part)'\n",
      " 'St. Vincent and the Grenadines' 'Sudan' 'Suriname' 'Sweden'\n",
      " 'Switzerland' 'Syrian Arab Republic' 'Tajikistan' 'Tanzania' 'Thailand'\n",
      " 'Timor-Leste' 'Togo' 'Tonga' 'Trinidad and Tobago' 'Tunisia' 'Turkiye'\n",
      " 'Turkmenistan' 'Turks and Caicos Islands' 'Tuvalu' 'Uganda' 'Ukraine'\n",
      " 'United Arab Emirates' 'United Kingdom' 'United States' 'Uruguay'\n",
      " 'Uzbekistan' 'Vanuatu' 'Venezuela, RB' 'Viet Nam' 'Virgin Islands (U.S.)'\n",
      " 'West Bank and Gaza' 'Yemen, Rep.' 'Zambia' 'Zimbabwe' 'World']\n"
     ]
    },
    {
     "data": {
      "text/plain": [
       "Country Name\n",
       "Afghanistan      1\n",
       "Pakistan         1\n",
       "Nepal            1\n",
       "Netherlands      1\n",
       "New Caledonia    1\n",
       "                ..\n",
       "Greece           1\n",
       "Greenland        1\n",
       "Grenada          1\n",
       "Guam             1\n",
       "World            1\n",
       "Name: count, Length: 218, dtype: int64"
      ]
     },
     "execution_count": 144,
     "metadata": {},
     "output_type": "execute_result"
    }
   ],
   "source": [
    "# inspecting the country column: note that the lentgh of the value counts is 218, same as the number of unique values, so each country only appears once\n",
    "\n",
    "print(df_og['Country Name'].nunique()) # same as len(df['Country Name'].unique())\n",
    "\n",
    "print(df_og['Country Name'].unique())\n",
    "\n",
    "df_og['Country Name'].value_counts() "
   ]
  },
  {
   "cell_type": "markdown",
   "metadata": {},
   "source": [
    "#### 1.3. Basic manipulations and outliers "
   ]
  },
  {
   "cell_type": "markdown",
   "metadata": {},
   "source": [
    "##### Distribution and outliers"
   ]
  },
  {
   "cell_type": "markdown",
   "metadata": {},
   "source": [
    "- Are there any outliers?\n",
    "    - Show them in a box plot.\n",
    "    - What could you do with them?\n",
    "- Can you plot a histogram and/ or kernel density for the values in 2023?"
   ]
  },
  {
   "cell_type": "code",
   "execution_count": 145,
   "metadata": {},
   "outputs": [],
   "source": [
    "# it's good practice to make a copy of the data set before you start manipulating it\n",
    "# that way you also don't have to import the data from scratch each time you made an error (e.g. removing a column you end up wanting to keep)\n",
    "\n",
    "df = df_og.copy()"
   ]
  },
  {
   "cell_type": "code",
   "execution_count": 146,
   "metadata": {},
   "outputs": [],
   "source": [
    "#!pip3 install matplotlib # you may need to install matplotlib - which you can do directly in this notebook with the !pip3 :)"
   ]
  },
  {
   "cell_type": "code",
   "execution_count": 147,
   "metadata": {},
   "outputs": [
    {
     "data": {
      "text/plain": [
       "Index(['Series Name', 'Series Code', 'Country Name', 'Country Code', '2001',\n",
       "       '2002', '2003', '2011', '2012', '2013', '2021', '2022', '2023'],\n",
       "      dtype='object')"
      ]
     },
     "execution_count": 147,
     "metadata": {},
     "output_type": "execute_result"
    }
   ],
   "source": [
    "df.columns"
   ]
  },
  {
   "cell_type": "code",
   "execution_count": 148,
   "metadata": {},
   "outputs": [
    {
     "data": {
      "image/png": "[encoded data removed]",
      "text/plain": [
       "<Figure size 640x480 with 1 Axes>"
      ]
     },
     "metadata": {},
     "output_type": "display_data"
    }
   ],
   "source": [
    "import matplotlib.pyplot as plt  \n",
    "\n",
    "df.boxplot(column =['2003', '2013', '2023'], grid = False) # this is native to pandas which uses matplotlib without us having to call it\n",
    "plt.show()\n"
   ]
  },
  {
   "cell_type": "code",
   "execution_count": 149,
   "metadata": {},
   "outputs": [
    {
     "data": {
      "text/plain": [
       "217"
      ]
     },
     "execution_count": 149,
     "metadata": {},
     "output_type": "execute_result"
    }
   ],
   "source": [
    "# we know the \"world\" row is the outlier, which is not a country, so let's remove it\n",
    "# remember: we can just re-run the cell that copies the og data to undo this change)\n",
    "\n",
    "# option 1: only keep other rows\n",
    "df = df[df['Country Name'] != 'World']\n",
    "\n",
    "# option 2: drop specific row\n",
    "#df = df.drop(df.loc[df['Country Name'] == 'World'])\n",
    "\n",
    "# option 3: see the option with ~ below (just search for the tilde with ctr+f)\n",
    "\n",
    "# check that there is one row less:\n",
    "#print(df.shape)\n",
    "\n",
    "len(df.index)\n"
   ]
  },
  {
   "cell_type": "code",
   "execution_count": 150,
   "metadata": {},
   "outputs": [
    {
     "data": {
      "image/png": "[encoded data removed]",
      "text/plain": [
       "<Figure size 640x480 with 1 Axes>"
      ]
     },
     "metadata": {},
     "output_type": "display_data"
    }
   ],
   "source": [
    "import seaborn as sns  # remember to install this in your environment first\n",
    "\n",
    "# plot again, this time with seaborn, and you can watch India overtake China\n",
    "\n",
    "sns.set_style(\"whitegrid\") \n",
    "\n",
    "columns_to_plot = ['2003', '2013', '2023']\n",
    "  \n",
    "sns.boxplot(data = df[columns_to_plot]) \n",
    "plt.show()"
   ]
  },
  {
   "cell_type": "code",
   "execution_count": 151,
   "metadata": {},
   "outputs": [
    {
     "data": {
      "image/png": "[encoded data removed]",
      "text/plain": [
       "<Figure size 640x480 with 1 Axes>"
      ]
     },
     "metadata": {},
     "output_type": "display_data"
    }
   ],
   "source": [
    "# play with the bins variable of the histogram\n",
    "df.hist(column=['2023'], bins=20)\n",
    "plt.show()"
   ]
  },
  {
   "cell_type": "code",
   "execution_count": 152,
   "metadata": {},
   "outputs": [
    {
     "data": {
      "image/png": "[encoded data removed]",
      "text/plain": [
       "<Figure size 640x480 with 1 Axes>"
      ]
     },
     "metadata": {},
     "output_type": "display_data"
    }
   ],
   "source": [
    "import scipy as sp\n",
    "\n",
    "# kernel densities also give an idea of the overall distribution\n",
    "\n",
    "df['2023'].plot.density()\n",
    "plt.show()"
   ]
  },
  {
   "cell_type": "markdown",
   "metadata": {},
   "source": [
    "##### Population growth over time\n"
   ]
  },
  {
   "cell_type": "markdown",
   "metadata": {},
   "source": [
    "- Which county has seen the greatest population growth from the start to the end of the timeline?\n",
    "    - In absolute terms?\n",
    "    - In relative terms?\n",
    "    - What about the greatest decrease?"
   ]
  },
  {
   "cell_type": "code",
   "execution_count": 153,
   "metadata": {},
   "outputs": [
    {
     "data": {
      "text/html": [
       "<div>\n",
       "<style scoped>\n",
       "    .dataframe tbody tr th:only-of-type {\n",
       "        vertical-align: middle;\n",
       "    }\n",
       "\n",
       "    .dataframe tbody tr th {\n",
       "        vertical-align: top;\n",
       "    }\n",
       "\n",
       "    .dataframe thead th {\n",
       "        text-align: right;\n",
       "    }\n",
       "</style>\n",
       "<table border=\"1\" class=\"dataframe\">\n",
       "  <thead>\n",
       "    <tr style=\"text-align: right;\">\n",
       "      <th></th>\n",
       "      <th>Series Name</th>\n",
       "      <th>Series Code</th>\n",
       "      <th>Country Name</th>\n",
       "      <th>Country Code</th>\n",
       "      <th>2001</th>\n",
       "      <th>2002</th>\n",
       "      <th>2003</th>\n",
       "      <th>2011</th>\n",
       "      <th>2012</th>\n",
       "      <th>2013</th>\n",
       "      <th>2021</th>\n",
       "      <th>2022</th>\n",
       "      <th>2023</th>\n",
       "      <th>gwth_2023_2001_abs</th>\n",
       "      <th>gwth_2023_2001_rel</th>\n",
       "    </tr>\n",
       "  </thead>\n",
       "  <tbody>\n",
       "    <tr>\n",
       "      <th>0</th>\n",
       "      <td>Population, total</td>\n",
       "      <td>SP.POP.TOTL</td>\n",
       "      <td>Afghanistan</td>\n",
       "      <td>AFG</td>\n",
       "      <td>19688632</td>\n",
       "      <td>21000256</td>\n",
       "      <td>22645130</td>\n",
       "      <td>29249157</td>\n",
       "      <td>30466479</td>\n",
       "      <td>31541209</td>\n",
       "      <td>40099462</td>\n",
       "      <td>41128771</td>\n",
       "      <td>42239854</td>\n",
       "      <td>22551222</td>\n",
       "      <td>1.15</td>\n",
       "    </tr>\n",
       "    <tr>\n",
       "      <th>1</th>\n",
       "      <td>Population, total</td>\n",
       "      <td>SP.POP.TOTL</td>\n",
       "      <td>Albania</td>\n",
       "      <td>ALB</td>\n",
       "      <td>3060173</td>\n",
       "      <td>3051010</td>\n",
       "      <td>3039616</td>\n",
       "      <td>2905195</td>\n",
       "      <td>2900401</td>\n",
       "      <td>2895092</td>\n",
       "      <td>2811666</td>\n",
       "      <td>2777689</td>\n",
       "      <td>2745972</td>\n",
       "      <td>-314201</td>\n",
       "      <td>-0.10</td>\n",
       "    </tr>\n",
       "  </tbody>\n",
       "</table>\n",
       "</div>"
      ],
      "text/plain": [
       "         Series Name  Series Code Country Name Country Code      2001  \\\n",
       "0  Population, total  SP.POP.TOTL  Afghanistan          AFG  19688632   \n",
       "1  Population, total  SP.POP.TOTL      Albania          ALB   3060173   \n",
       "\n",
       "       2002      2003      2011      2012      2013      2021      2022  \\\n",
       "0  21000256  22645130  29249157  30466479  31541209  40099462  41128771   \n",
       "1   3051010   3039616   2905195   2900401   2895092   2811666   2777689   \n",
       "\n",
       "       2023  gwth_2023_2001_abs  gwth_2023_2001_rel  \n",
       "0  42239854            22551222                1.15  \n",
       "1   2745972             -314201               -0.10  "
      ]
     },
     "execution_count": 153,
     "metadata": {},
     "output_type": "execute_result"
    }
   ],
   "source": [
    "# create a new column that shows the difference between 2001 and 2023 - not that the absolute value would not be helpful\n",
    "\n",
    "df['gwth_2023_2001_abs'] = df['2023'] - df['2001'] \n",
    "df['gwth_2023_2001_rel'] = round(df['gwth_2023_2001_abs'] / df['2001'], 2)\n",
    "df.head(2)"
   ]
  },
  {
   "cell_type": "code",
   "execution_count": 154,
   "metadata": {},
   "outputs": [
    {
     "name": "stdout",
     "output_type": "stream",
     "text": [
      "Greatest absolute growth from 2001 to 2023: \n",
      "   - Country:  89    India\n",
      "Name: Country Name, dtype: object\n",
      "   - Growth:  89    349656756\n",
      "Name: gwth_2023_2001_abs, dtype: int64\n",
      "\n",
      "\n",
      "Greatest relative growth from 2001 to 2023: \n",
      "   - Country:  159    Qatar\n",
      "Name: Country Name, dtype: object\n",
      "   - Growth:  159    3.0\n",
      "Name: gwth_2023_2001_rel, dtype: float64\n"
     ]
    }
   ],
   "source": [
    "# find the highest growth values - you can of course to the equivalent for the smallest (i.e. most negative) values\n",
    "# bonus: can you find the countries with the samlles positive growth?\n",
    "\n",
    "print('Greatest absolute growth from 2001 to 2023: ')\n",
    "print('   - Country: ', df.nlargest(1, 'gwth_2023_2001_abs')['Country Name'])\n",
    "print('   - Growth: ', df.nlargest(1, 'gwth_2023_2001_abs')['gwth_2023_2001_abs'])\n",
    "\n",
    "print('\\n') # this prints a line break\n",
    "\n",
    "print('Greatest relative growth from 2001 to 2023: ')\n",
    "print('   - Country: ', df.nlargest(1, 'gwth_2023_2001_rel')['Country Name'])\n",
    "print('   - Growth: ', df.nlargest(1, 'gwth_2023_2001_rel')['gwth_2023_2001_rel'])"
   ]
  },
  {
   "cell_type": "markdown",
   "metadata": {},
   "source": [
    "##### Comparing rows (countries)\n"
   ]
  },
  {
   "cell_type": "markdown",
   "metadata": {},
   "source": [
    "Addresses the following questions from class:\n",
    "- Show just the rows for Spain and your country/ countries of origin\n",
    "    - Can you create a new row that shows the difference in population over time?\n",
    "    - Can you plot this?"
   ]
  },
  {
   "cell_type": "code",
   "execution_count": 155,
   "metadata": {},
   "outputs": [
    {
     "data": {
      "text/html": [
       "<div>\n",
       "<style scoped>\n",
       "    .dataframe tbody tr th:only-of-type {\n",
       "        vertical-align: middle;\n",
       "    }\n",
       "\n",
       "    .dataframe tbody tr th {\n",
       "        vertical-align: top;\n",
       "    }\n",
       "\n",
       "    .dataframe thead th {\n",
       "        text-align: right;\n",
       "    }\n",
       "</style>\n",
       "<table border=\"1\" class=\"dataframe\">\n",
       "  <thead>\n",
       "    <tr style=\"text-align: right;\">\n",
       "      <th></th>\n",
       "      <th>Series Name</th>\n",
       "      <th>Series Code</th>\n",
       "      <th>Country Name</th>\n",
       "      <th>Country Code</th>\n",
       "      <th>2001</th>\n",
       "      <th>2002</th>\n",
       "      <th>2003</th>\n",
       "      <th>2011</th>\n",
       "      <th>2012</th>\n",
       "      <th>2013</th>\n",
       "      <th>2021</th>\n",
       "      <th>2022</th>\n",
       "      <th>2023</th>\n",
       "      <th>gwth_2023_2001_abs</th>\n",
       "      <th>gwth_2023_2001_rel</th>\n",
       "    </tr>\n",
       "  </thead>\n",
       "  <tbody>\n",
       "    <tr>\n",
       "      <th>73</th>\n",
       "      <td>Population, total</td>\n",
       "      <td>SP.POP.TOTL</td>\n",
       "      <td>Germany</td>\n",
       "      <td>DEU</td>\n",
       "      <td>82349925</td>\n",
       "      <td>82488495</td>\n",
       "      <td>82534176</td>\n",
       "      <td>80274983</td>\n",
       "      <td>80425823</td>\n",
       "      <td>80645605</td>\n",
       "      <td>83196078</td>\n",
       "      <td>83797985</td>\n",
       "      <td>84482267</td>\n",
       "      <td>2132342</td>\n",
       "      <td>0.03</td>\n",
       "    </tr>\n",
       "    <tr>\n",
       "      <th>179</th>\n",
       "      <td>Population, total</td>\n",
       "      <td>SP.POP.TOTL</td>\n",
       "      <td>Spain</td>\n",
       "      <td>ESP</td>\n",
       "      <td>40850412</td>\n",
       "      <td>41431558</td>\n",
       "      <td>42187645</td>\n",
       "      <td>46742697</td>\n",
       "      <td>46773055</td>\n",
       "      <td>46620045</td>\n",
       "      <td>47415794</td>\n",
       "      <td>47778340</td>\n",
       "      <td>48373336</td>\n",
       "      <td>7522924</td>\n",
       "      <td>0.18</td>\n",
       "    </tr>\n",
       "    <tr>\n",
       "      <th>205</th>\n",
       "      <td>Population, total</td>\n",
       "      <td>SP.POP.TOTL</td>\n",
       "      <td>United Kingdom</td>\n",
       "      <td>GBR</td>\n",
       "      <td>59119673</td>\n",
       "      <td>59370479</td>\n",
       "      <td>59647577</td>\n",
       "      <td>63258810</td>\n",
       "      <td>63700215</td>\n",
       "      <td>64128273</td>\n",
       "      <td>67026292</td>\n",
       "      <td>67791000</td>\n",
       "      <td>68350000</td>\n",
       "      <td>9230327</td>\n",
       "      <td>0.16</td>\n",
       "    </tr>\n",
       "  </tbody>\n",
       "</table>\n",
       "</div>"
      ],
      "text/plain": [
       "           Series Name  Series Code    Country Name Country Code      2001  \\\n",
       "73   Population, total  SP.POP.TOTL         Germany          DEU  82349925   \n",
       "179  Population, total  SP.POP.TOTL           Spain          ESP  40850412   \n",
       "205  Population, total  SP.POP.TOTL  United Kingdom          GBR  59119673   \n",
       "\n",
       "         2002      2003      2011      2012      2013      2021      2022  \\\n",
       "73   82488495  82534176  80274983  80425823  80645605  83196078  83797985   \n",
       "179  41431558  42187645  46742697  46773055  46620045  47415794  47778340   \n",
       "205  59370479  59647577  63258810  63700215  64128273  67026292  67791000   \n",
       "\n",
       "         2023  gwth_2023_2001_abs  gwth_2023_2001_rel  \n",
       "73   84482267             2132342                0.03  \n",
       "179  48373336             7522924                0.18  \n",
       "205  68350000             9230327                0.16  "
      ]
     },
     "execution_count": 155,
     "metadata": {},
     "output_type": "execute_result"
    }
   ],
   "source": [
    "# displaying only selected countries\n",
    "\n",
    "df.loc[( df['Country Name']== 'Germany') | (df['Country Name']== 'United Kingdom') | (df['Country Name']== 'Spain')]"
   ]
  },
  {
   "cell_type": "code",
   "execution_count": 156,
   "metadata": {},
   "outputs": [
    {
     "data": {
      "text/html": [
       "<div>\n",
       "<style scoped>\n",
       "    .dataframe tbody tr th:only-of-type {\n",
       "        vertical-align: middle;\n",
       "    }\n",
       "\n",
       "    .dataframe tbody tr th {\n",
       "        vertical-align: top;\n",
       "    }\n",
       "\n",
       "    .dataframe thead th {\n",
       "        text-align: right;\n",
       "    }\n",
       "</style>\n",
       "<table border=\"1\" class=\"dataframe\">\n",
       "  <thead>\n",
       "    <tr style=\"text-align: right;\">\n",
       "      <th></th>\n",
       "      <th>Series Name</th>\n",
       "      <th>Series Code</th>\n",
       "      <th>Country Name</th>\n",
       "      <th>Country Code</th>\n",
       "      <th>2001</th>\n",
       "      <th>2002</th>\n",
       "      <th>2003</th>\n",
       "      <th>2011</th>\n",
       "      <th>2012</th>\n",
       "      <th>2013</th>\n",
       "      <th>2021</th>\n",
       "      <th>2022</th>\n",
       "      <th>2023</th>\n",
       "      <th>gwth_2023_2001_abs</th>\n",
       "      <th>gwth_2023_2001_rel</th>\n",
       "    </tr>\n",
       "  </thead>\n",
       "  <tbody>\n",
       "    <tr>\n",
       "      <th>73</th>\n",
       "      <td>Population, total</td>\n",
       "      <td>SP.POP.TOTL</td>\n",
       "      <td>Germany</td>\n",
       "      <td>DEU</td>\n",
       "      <td>82349925</td>\n",
       "      <td>82488495</td>\n",
       "      <td>82534176</td>\n",
       "      <td>80274983</td>\n",
       "      <td>80425823</td>\n",
       "      <td>80645605</td>\n",
       "      <td>83196078</td>\n",
       "      <td>83797985</td>\n",
       "      <td>84482267</td>\n",
       "      <td>2132342</td>\n",
       "      <td>0.03</td>\n",
       "    </tr>\n",
       "    <tr>\n",
       "      <th>205</th>\n",
       "      <td>Population, total</td>\n",
       "      <td>SP.POP.TOTL</td>\n",
       "      <td>United Kingdom</td>\n",
       "      <td>GBR</td>\n",
       "      <td>59119673</td>\n",
       "      <td>59370479</td>\n",
       "      <td>59647577</td>\n",
       "      <td>63258810</td>\n",
       "      <td>63700215</td>\n",
       "      <td>64128273</td>\n",
       "      <td>67026292</td>\n",
       "      <td>67791000</td>\n",
       "      <td>68350000</td>\n",
       "      <td>9230327</td>\n",
       "      <td>0.16</td>\n",
       "    </tr>\n",
       "    <tr>\n",
       "      <th>179</th>\n",
       "      <td>Population, total</td>\n",
       "      <td>SP.POP.TOTL</td>\n",
       "      <td>Spain</td>\n",
       "      <td>ESP</td>\n",
       "      <td>40850412</td>\n",
       "      <td>41431558</td>\n",
       "      <td>42187645</td>\n",
       "      <td>46742697</td>\n",
       "      <td>46773055</td>\n",
       "      <td>46620045</td>\n",
       "      <td>47415794</td>\n",
       "      <td>47778340</td>\n",
       "      <td>48373336</td>\n",
       "      <td>7522924</td>\n",
       "      <td>0.18</td>\n",
       "    </tr>\n",
       "  </tbody>\n",
       "</table>\n",
       "</div>"
      ],
      "text/plain": [
       "           Series Name  Series Code    Country Name Country Code      2001  \\\n",
       "73   Population, total  SP.POP.TOTL         Germany          DEU  82349925   \n",
       "205  Population, total  SP.POP.TOTL  United Kingdom          GBR  59119673   \n",
       "179  Population, total  SP.POP.TOTL           Spain          ESP  40850412   \n",
       "\n",
       "         2002      2003      2011      2012      2013      2021      2022  \\\n",
       "73   82488495  82534176  80274983  80425823  80645605  83196078  83797985   \n",
       "205  59370479  59647577  63258810  63700215  64128273  67026292  67791000   \n",
       "179  41431558  42187645  46742697  46773055  46620045  47415794  47778340   \n",
       "\n",
       "         2023  gwth_2023_2001_abs  gwth_2023_2001_rel  \n",
       "73   84482267             2132342                0.03  \n",
       "205  68350000             9230327                0.16  \n",
       "179  48373336             7522924                0.18  "
      ]
     },
     "execution_count": 156,
     "metadata": {},
     "output_type": "execute_result"
    }
   ],
   "source": [
    "# slightly neater and more flexible\n",
    "\n",
    "country_choices = ['Germany', 'United Kingdom', 'Spain']\n",
    "\n",
    "df.loc[df['Country Name'].isin(country_choices)].sort_values('2023', ascending=False) # here I am also specifying what to sort by"
   ]
  },
  {
   "cell_type": "code",
   "execution_count": 169,
   "metadata": {},
   "outputs": [
    {
     "name": "stdout",
     "output_type": "stream",
     "text": [
      "Index([         'AFG',          'ALB',          'DZA',          'ASM',\n",
      "                'AND',          'AGO',          'ATG',          'ARG',\n",
      "                'ARM',          'ABW',\n",
      "       ...\n",
      "                  nan,              0,            nan,              0,\n",
      "                  nan,              0,            nan,              0,\n",
      "       'diff_deu_gbr', 'diff_deu_esp'],\n",
      "      dtype='object', name='Country Code', length=230)\n"
     ]
    }
   ],
   "source": [
    "import numpy as np \n",
    "\n",
    "# to take the difference row-wise, I need to select only the columns that contain numbers and are relevant\n",
    "\n",
    "year_cols = ['2001', '2002', '2003', '2011', '2012', '2013', '2021', '2022', '2023']\n",
    "\n",
    "df = df.copy() # otherwise you'll get a warning about assinging values that might overwrite existing ones\n",
    "\n",
    "# we can also make the index (i.e. the row name) more meaningful by inserting the country code\n",
    "df.set_index(df['Country Code'], inplace=True)\n",
    "\n",
    "# create rows if they don't exist\n",
    "if 'diff_deu_gbr' not in df.index:\n",
    "    df.loc['diff_deu_gbr'] = np.nan # making the default value Nan\n",
    "\n",
    "if 'diff_deu_esp' not in df.index:\n",
    "    df.loc['diff_deu_esp'] = 0      # making the default value 0\n",
    "\n",
    "for col in year_cols:\n",
    "    df.loc['diff_deu_gbr', col] = df.loc['DEU', col] - df.loc['GBR', col]\n",
    "    df.loc['diff_deu_esp', col] = df.loc['DEU', col] - df.loc['ESP', col]\n",
    "\n",
    "df.loc[['DEU', 'GBR', 'ESP'], ['Country Name', 'Series Name'] + year_cols ]\n",
    "\n",
    "print(df.index)\n"
   ]
  },
  {
   "cell_type": "code",
   "execution_count": 173,
   "metadata": {},
   "outputs": [
    {
     "name": "stdout",
     "output_type": "stream",
     "text": [
      "                    2001        2002        2003        2011        2012  \\\n",
      "Country Code                                                               \n",
      "diff_deu_gbr  23230252.0  23118016.0  22886599.0  17016173.0  16725608.0   \n",
      "diff_deu_esp  41499513.0  41056937.0  40346531.0  33532286.0  33652768.0   \n",
      "\n",
      "                    2013        2021        2022        2023  \\\n",
      "Country Code                                                   \n",
      "diff_deu_gbr  16517332.0  16169786.0  16006985.0  16132267.0   \n",
      "diff_deu_esp  34025560.0  35780284.0  36019645.0  36108931.0   \n",
      "\n",
      "              gwth_2023_2001_abs  gwth_2023_2001_rel  \n",
      "Country Code                                          \n",
      "diff_deu_gbr                 NaN                 NaN  \n",
      "diff_deu_esp                 0.0                 0.0  \n",
      "Country Code        diff_deu_gbr  diff_deu_esp\n",
      "2001                  23230252.0    41499513.0\n",
      "2002                  23118016.0    41056937.0\n",
      "2003                  22886599.0    40346531.0\n",
      "2011                  17016173.0    33532286.0\n",
      "2012                  16725608.0    33652768.0\n",
      "2013                  16517332.0    34025560.0\n",
      "2021                  16169786.0    35780284.0\n",
      "2022                  16006985.0    36019645.0\n",
      "2023                  16132267.0    36108931.0\n",
      "gwth_2023_2001_abs           NaN           0.0\n",
      "gwth_2023_2001_rel           NaN           0.0\n"
     ]
    },
    {
     "data": {
      "image/png": "[encoded data removed]",
      "text/plain": [
       "<Figure size 1000x600 with 1 Axes>"
      ]
     },
     "metadata": {},
     "output_type": "display_data"
    }
   ],
   "source": [
    "# plotting from rows\n",
    "numerical_cols = df.select_dtypes(np.number).columns\n",
    "\n",
    "rows_to_plot = ['diff_deu_gbr', 'diff_deu_esp']\n",
    "data_to_plot = df.loc[rows_to_plot, numerical_cols]\n",
    "\n",
    "print(data_to_plot)\n",
    "\n",
    "# transpose the data to make the columns the x-axis (years) and the rows the data series\n",
    "data_to_plot = data_to_plot.T\n",
    "\n",
    "print(data_to_plot)\n",
    "\n",
    "# plot the data\n",
    "data_to_plot.plot(kind='line', marker='o', figsize=(10, 6))\n",
    "\n",
    "# specify labels and title\n",
    "plt.title('How much smaller UK and Spain are compared to Germany')\n",
    "plt.xlabel('Year')\n",
    "plt.ylabel('Values')\n",
    "plt.legend(title='Country/Row')\n",
    "\n",
    "# show the plot\n",
    "plt.show()"
   ]
  },
  {
   "cell_type": "markdown",
   "metadata": {},
   "source": [
    "##### Better solution - using transpose to compare columns instead"
   ]
  },
  {
   "cell_type": "code",
   "execution_count": null,
   "metadata": {},
   "outputs": [],
   "source": [
    "# the above is really cumbersome, so it's much easier to transpose the data from the beginning\n",
    "# to work only with the subset we can store it in a new data frame\n",
    "\n",
    "# country_choices = ['Germany', 'United Kingdom', 'Spain'] # this was already set above\n",
    "\n",
    "df_subset = df.loc[df['Country Name'].isin(country_choices) ]\n",
    "\n",
    "print(df_subset.shape)\n",
    "df_subset"
   ]
  },
  {
   "cell_type": "code",
   "execution_count": null,
   "metadata": {},
   "outputs": [
    {
     "ename": "NameError",
     "evalue": "name 'df_subset' is not defined",
     "output_type": "error",
     "traceback": [
      "\u001b[0;31m---------------------------------------------------------------------------\u001b[0m",
      "\u001b[0;31mNameError\u001b[0m                                 Traceback (most recent call last)",
      "Cell \u001b[0;32mIn[132], line 2\u001b[0m\n\u001b[1;32m      1\u001b[0m \u001b[38;5;66;03m# this is what tranposing does - note the nice column names thanks to changing the index\u001b[39;00m\n\u001b[0;32m----> 2\u001b[0m df_transposed \u001b[38;5;241m=\u001b[39m \u001b[43mdf_subset\u001b[49m\u001b[38;5;241m.\u001b[39mT\n\u001b[1;32m      3\u001b[0m df_transposed\n",
      "\u001b[0;31mNameError\u001b[0m: name 'df_subset' is not defined"
     ]
    }
   ],
   "source": [
    "# this is what tranposing does - note the nice column names thanks to changing the index\n",
    "df_transposed = df_subset.T\n",
    "df_transposed"
   ]
  },
  {
   "cell_type": "code",
   "execution_count": null,
   "metadata": {},
   "outputs": [],
   "source": [
    "# I can drop the repeated information to make it neaters\n",
    "\n",
    "to_drop = ['Country Code', 'Series Name', 'Series Code', 'Country Name'] # without this the transpose creates repeated values\n",
    "df_subset2 = df_subset.drop(columns=to_drop)\n",
    "\n",
    "df_transposed = pd.DataFrame(df_subset2.T)\n",
    "df_transposed"
   ]
  },
  {
   "cell_type": "code",
   "execution_count": null,
   "metadata": {},
   "outputs": [],
   "source": [
    "# now finding the differences is easier\n",
    "df_transposed['diff_deu_esp'] = df_transposed['DEU'] - df_transposed['ESP']\n",
    "df_transposed['diff_deu_gbr'] = df_transposed['DEU'] - df_transposed['GBR']\n",
    "df_transposed"
   ]
  },
  {
   "cell_type": "markdown",
   "metadata": {},
   "source": [
    "### 2. Background cleaning\n",
    "\n",
    "What I did to give you a slightly nicer data set - shows how to store data frames as csvs and how to rename columns using a dictionary"
   ]
  },
  {
   "cell_type": "code",
   "execution_count": null,
   "metadata": {},
   "outputs": [],
   "source": [
    "df_WB = pd.read_csv(cwd + '/data/WB_full.csv')\n",
    "#df_meta = pd.read_csv(cwd + '/data/WB_metadata.csv')\n",
    "\n",
    "df_WB.head()"
   ]
  },
  {
   "cell_type": "code",
   "execution_count": null,
   "metadata": {},
   "outputs": [],
   "source": [
    "# cols_to_clean = [\n",
    "#     '2001 [YR2001]', '2002 [YR2002]', '2003 [YR2003]', '2011 [YR2011]',\n",
    "#     '2012 [YR2012]', '2013 [YR2013]', '2021 [YR2021]', '2022 [YR2022]', '2023 [YR2023]']\n",
    "\n",
    "# cols_to_clean might include other non-year columns\n",
    "cols_to_clean = df_WB.columns.tolist()\n",
    "\n",
    "# Creating a dictionary to map the year columns from '2001 [YR2001]' to just '2001'\n",
    "rename_dict = {col: col.split()[0] for col in cols_to_clean if '[YR' in col}\n",
    "\n",
    "# Using rename to only change the year columns and leave the rest intact\n",
    "df_WB = df_WB.rename(columns=rename_dict)\n",
    "\n",
    "df_WB.head(2)"
   ]
  },
  {
   "cell_type": "code",
   "execution_count": null,
   "metadata": {},
   "outputs": [],
   "source": [
    "df_pop = df_WB.loc[df_WB['Series Code']=='SP.POP.TOTL']\n",
    "\n",
    "country_groups = [\n",
    "    \"AFE\", \"AFW\", \"ARB\", \"CSS\", \"CEB\", \"EAR\", \"EAS\", \"EAP\", \"TEA\", \"EMU\", \n",
    "    \"ECS\", \"ECA\", \"TEC\", \"EUU\", \"FCS\", \"HPC\", \"HIC\", \"IBD\", \"IBT\", \"IDB\", \n",
    "    \"IDX\", \"IDA\", \"LTE\", \"LCN\", \"LAC\", \"TLA\", \"LDC\", \"LMY\", \"LIC\", \"LMC\", \n",
    "    \"MEA\", \"MNA\", \"TMN\", \"MIC\", \"NAC\", \"INX\", \"OED\", \"OSS\", \"PSS\", \"PST\", \n",
    "    \"PRE\", \"SST\", \"SAS\", \"TSA\", \"SSF\", \"SSA\", \"TSS\", \"UMC\"]\n",
    "\n",
    "world = [\"WLD\"]\n",
    "\n",
    "filtered_df = df_pop[~df_pop['Country Code'].isin(country_groups)]\n",
    "\n",
    "filtered_df.shape\n"
   ]
  },
  {
   "cell_type": "code",
   "execution_count": null,
   "metadata": {},
   "outputs": [],
   "source": [
    "# download\n",
    "#filtered_df.to_csv(cwd + '/data/WB_pop_clean.csv', index=False)"
   ]
  }
 ],
 "metadata": {
  "kernelspec": {
   "display_name": "brushup",
   "language": "python",
   "name": "python3"
  },
  "language_info": {
   "codemirror_mode": {
    "name": "ipython",
    "version": 3
   },
   "file_extension": ".py",
   "mimetype": "text/x-python",
   "name": "python",
   "nbconvert_exporter": "python",
   "pygments_lexer": "ipython3",
   "version": "3.12.2"
  }
 },
 "nbformat": 4,
 "nbformat_minor": 2
}
